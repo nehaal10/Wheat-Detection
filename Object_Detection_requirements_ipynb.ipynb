{
  "nbformat": 4,
  "nbformat_minor": 0,
  "metadata": {
    "colab": {
      "name": "Object Detection requirements. ipynb",
      "provenance": [],
      "collapsed_sections": [],
      "mount_file_id": "140GKKYHVFCDhlQfBTczjxWKAMAnmThK7",
      "authorship_tag": "ABX9TyMYjw2u0E4TNZaOahmBUM9D",
      "include_colab_link": true
    },
    "kernelspec": {
      "name": "python3",
      "display_name": "Python 3"
    },
    "language_info": {
      "name": "python"
    }
  },
  "cells": [
    {
      "cell_type": "markdown",
      "metadata": {
        "id": "view-in-github",
        "colab_type": "text"
      },
      "source": [
        "<a href=\"https://colab.research.google.com/github/nehaal10/license-plate-detection/blob/main/Object_Detection_requirements_ipynb.ipynb\" target=\"_parent\"><img src=\"https://colab.research.google.com/assets/colab-badge.svg\" alt=\"Open In Colab\"/></a>"
      ]
    },
    {
      "cell_type": "markdown",
      "source": [
        "# **Downloading dataset from Kaggle**"
      ],
      "metadata": {
        "id": "JIVUs3C0f8yD"
      }
    },
    {
      "cell_type": "code",
      "source": [
        "import os\n",
        "import shutil\n",
        "import pandas as pd\n",
        "from sklearn.model_selection import train_test_split"
      ],
      "metadata": {
        "id": "eRdYq-O2gB5I"
      },
      "execution_count": 2,
      "outputs": []
    },
    {
      "cell_type": "markdown",
      "source": [
        "![Screenshot 2022-01-09 115445.png](data:image/png;base64,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)\n",
        "\n",
        "this is how directories should look like \n"
      ],
      "metadata": {
        "id": "Jp4QiP5yguEi"
      }
    },
    {
      "cell_type": "code",
      "source": [
        "os.chdir('/content/drive/MyDrive')\n",
        "os.makedirs('objet detection_personal_data')"
      ],
      "metadata": {
        "id": "evAg9oKMfk_B"
      },
      "execution_count": null,
      "outputs": []
    },
    {
      "cell_type": "code",
      "source": [
        "os.chdir('/content/drive/MyDrive/objet detection_personal_data')\n",
        "os.makedirs('car_license_plate_detection')\n",
        "os.chdir('/content/drive/MyDrive/objet detection_personal_data/car_license_plate_detection')\n",
        "os.makedirs('annotations')\n",
        "os.makedirs('exported-models')\n",
        "os.makedirs('images')\n",
        "os.makedirs('models')\n",
        "os.makedirs('pre-trained-model')\n",
        "os.chdir('/content/drive/MyDrive/objet detection_personal_data/car_license_plate_detection/images')\n",
        "os.makedirs('train')\n",
        "os.makedirs('test')"
      ],
      "metadata": {
        "id": "HhRDltYFhM9t"
      },
      "execution_count": null,
      "outputs": []
    },
    {
      "cell_type": "markdown",
      "source": [
        "# **Now We Have Create the Required Directories**\n",
        "***Lets download the dataset from kaggle*** \n",
        "\n",
        "\n",
        "\n"
      ],
      "metadata": {
        "id": "AS7lwrCGiqTD"
      }
    },
    {
      "cell_type": "code",
      "source": [
        "os.chdir('/content/drive/MyDrive/kaggle')\n",
        "os.environ['KAGGLE_CONFIG_DIR']=os.getcwd()\n",
        "!kaggle datasets download -d andrewmvd/car-plate-detection"
      ],
      "metadata": {
        "colab": {
          "base_uri": "https://localhost:8080/"
        },
        "id": "hjJmIDHXika6",
        "outputId": "ef256c46-ff22-4214-95e1-f411f8b1cbb9"
      },
      "execution_count": null,
      "outputs": [
        {
          "output_type": "stream",
          "name": "stdout",
          "text": [
            "Downloading car-plate-detection.zip to /content/drive/MyDrive/kaggle\n",
            " 97% 197M/203M [00:01<00:00, 114MB/s]\n",
            "100% 203M/203M [00:01<00:00, 117MB/s]\n"
          ]
        }
      ]
    },
    {
      "cell_type": "markdown",
      "source": [
        "# Unzipping the downloaded file"
      ],
      "metadata": {
        "id": "wPvBSVZ5kCn8"
      }
    },
    {
      "cell_type": "code",
      "source": [
        "! unzip -q 'car-plate-detection.zip'"
      ],
      "metadata": {
        "id": "0hJ4m2g6kCYX"
      },
      "execution_count": null,
      "outputs": []
    },
    {
      "cell_type": "markdown",
      "source": [
        "# So we need take the path of the images and annotation and convert it to csv files"
      ],
      "metadata": {
        "id": "NV4Oo2eWlbGf"
      }
    },
    {
      "cell_type": "code",
      "source": [
        "annotation_path='/content/drive/MyDrive/kaggle/annotations'\n",
        "image_path='/content/drive/MyDrive/kaggle/images'\n",
        "os.chdir(annotation_path)\n",
        "for i in os.listdir():\n",
        "  shutil.move(i,image_path)"
      ],
      "metadata": {
        "id": "Kv5o49SflayV"
      },
      "execution_count": null,
      "outputs": []
    },
    {
      "cell_type": "code",
      "source": [
        "# Now we moved entire annotations folder to images folder  now we can delete annotation folder\n",
        "\n",
        "#os.rmdir('/content/drive/MyDrive/kaggle/annotations')\n",
        "os.chdir(image_path)\n",
        "annotate=[]\n",
        "images=[]\n",
        "for i in os.listdir():\n",
        "  if '.png' in i:\n",
        "    images.append('/content/drive/MyDrive/kaggle/images/'+str(i))\n",
        "  elif '.xml' in i:\n",
        "    annotate.append('/content/drive/MyDrive/kaggle/images/'+str(i))"
      ],
      "metadata": {
        "id": "JlV78Ar-jfSJ"
      },
      "execution_count": null,
      "outputs": []
    },
    {
      "cell_type": "code",
      "source": [
        "# putting all these values into csv file\n",
        "annotate_images={'Images':images,'Annotate':annotate}\n",
        "data=pd.DataFrame(annotate_images)\n",
        "data"
      ],
      "metadata": {
        "colab": {
          "base_uri": "https://localhost:8080/",
          "height": 423
        },
        "id": "pyUSD5dRrGCn",
        "outputId": "2bb04f5c-b9ff-40cf-9e40-5052355e4743"
      },
      "execution_count": null,
      "outputs": [
        {
          "output_type": "execute_result",
          "data": {
            "text/html": [
              "\n",
              "  <div id=\"df-3a5c3182-8272-4513-ae90-8074302b5a46\">\n",
              "    <div class=\"colab-df-container\">\n",
              "      <div>\n",
              "<style scoped>\n",
              "    .dataframe tbody tr th:only-of-type {\n",
              "        vertical-align: middle;\n",
              "    }\n",
              "\n",
              "    .dataframe tbody tr th {\n",
              "        vertical-align: top;\n",
              "    }\n",
              "\n",
              "    .dataframe thead th {\n",
              "        text-align: right;\n",
              "    }\n",
              "</style>\n",
              "<table border=\"1\" class=\"dataframe\">\n",
              "  <thead>\n",
              "    <tr style=\"text-align: right;\">\n",
              "      <th></th>\n",
              "      <th>Images</th>\n",
              "      <th>Annotate</th>\n",
              "    </tr>\n",
              "  </thead>\n",
              "  <tbody>\n",
              "    <tr>\n",
              "      <th>0</th>\n",
              "      <td>/content/drive/MyDrive/kaggle/images/Cars0.png</td>\n",
              "      <td>/content/drive/MyDrive/kaggle/images/Cars0.xml</td>\n",
              "    </tr>\n",
              "    <tr>\n",
              "      <th>1</th>\n",
              "      <td>/content/drive/MyDrive/kaggle/images/Cars1.png</td>\n",
              "      <td>/content/drive/MyDrive/kaggle/images/Cars1.xml</td>\n",
              "    </tr>\n",
              "    <tr>\n",
              "      <th>2</th>\n",
              "      <td>/content/drive/MyDrive/kaggle/images/Cars10.png</td>\n",
              "      <td>/content/drive/MyDrive/kaggle/images/Cars10.xml</td>\n",
              "    </tr>\n",
              "    <tr>\n",
              "      <th>3</th>\n",
              "      <td>/content/drive/MyDrive/kaggle/images/Cars100.png</td>\n",
              "      <td>/content/drive/MyDrive/kaggle/images/Cars100.xml</td>\n",
              "    </tr>\n",
              "    <tr>\n",
              "      <th>4</th>\n",
              "      <td>/content/drive/MyDrive/kaggle/images/Cars101.png</td>\n",
              "      <td>/content/drive/MyDrive/kaggle/images/Cars101.xml</td>\n",
              "    </tr>\n",
              "    <tr>\n",
              "      <th>...</th>\n",
              "      <td>...</td>\n",
              "      <td>...</td>\n",
              "    </tr>\n",
              "    <tr>\n",
              "      <th>428</th>\n",
              "      <td>/content/drive/MyDrive/kaggle/images/Cars95.png</td>\n",
              "      <td>/content/drive/MyDrive/kaggle/images/Cars95.xml</td>\n",
              "    </tr>\n",
              "    <tr>\n",
              "      <th>429</th>\n",
              "      <td>/content/drive/MyDrive/kaggle/images/Cars96.png</td>\n",
              "      <td>/content/drive/MyDrive/kaggle/images/Cars96.xml</td>\n",
              "    </tr>\n",
              "    <tr>\n",
              "      <th>430</th>\n",
              "      <td>/content/drive/MyDrive/kaggle/images/Cars97.png</td>\n",
              "      <td>/content/drive/MyDrive/kaggle/images/Cars97.xml</td>\n",
              "    </tr>\n",
              "    <tr>\n",
              "      <th>431</th>\n",
              "      <td>/content/drive/MyDrive/kaggle/images/Cars98.png</td>\n",
              "      <td>/content/drive/MyDrive/kaggle/images/Cars98.xml</td>\n",
              "    </tr>\n",
              "    <tr>\n",
              "      <th>432</th>\n",
              "      <td>/content/drive/MyDrive/kaggle/images/Cars99.png</td>\n",
              "      <td>/content/drive/MyDrive/kaggle/images/Cars99.xml</td>\n",
              "    </tr>\n",
              "  </tbody>\n",
              "</table>\n",
              "<p>433 rows × 2 columns</p>\n",
              "</div>\n",
              "      <button class=\"colab-df-convert\" onclick=\"convertToInteractive('df-3a5c3182-8272-4513-ae90-8074302b5a46')\"\n",
              "              title=\"Convert this dataframe to an interactive table.\"\n",
              "              style=\"display:none;\">\n",
              "        \n",
              "  <svg xmlns=\"http://www.w3.org/2000/svg\" height=\"24px\"viewBox=\"0 0 24 24\"\n",
              "       width=\"24px\">\n",
              "    <path d=\"M0 0h24v24H0V0z\" fill=\"none\"/>\n",
              "    <path d=\"M18.56 5.44l.94 2.06.94-2.06 2.06-.94-2.06-.94-.94-2.06-.94 2.06-2.06.94zm-11 1L8.5 8.5l.94-2.06 2.06-.94-2.06-.94L8.5 2.5l-.94 2.06-2.06.94zm10 10l.94 2.06.94-2.06 2.06-.94-2.06-.94-.94-2.06-.94 2.06-2.06.94z\"/><path d=\"M17.41 7.96l-1.37-1.37c-.4-.4-.92-.59-1.43-.59-.52 0-1.04.2-1.43.59L10.3 9.45l-7.72 7.72c-.78.78-.78 2.05 0 2.83L4 21.41c.39.39.9.59 1.41.59.51 0 1.02-.2 1.41-.59l7.78-7.78 2.81-2.81c.8-.78.8-2.07 0-2.86zM5.41 20L4 18.59l7.72-7.72 1.47 1.35L5.41 20z\"/>\n",
              "  </svg>\n",
              "      </button>\n",
              "      \n",
              "  <style>\n",
              "    .colab-df-container {\n",
              "      display:flex;\n",
              "      flex-wrap:wrap;\n",
              "      gap: 12px;\n",
              "    }\n",
              "\n",
              "    .colab-df-convert {\n",
              "      background-color: #E8F0FE;\n",
              "      border: none;\n",
              "      border-radius: 50%;\n",
              "      cursor: pointer;\n",
              "      display: none;\n",
              "      fill: #1967D2;\n",
              "      height: 32px;\n",
              "      padding: 0 0 0 0;\n",
              "      width: 32px;\n",
              "    }\n",
              "\n",
              "    .colab-df-convert:hover {\n",
              "      background-color: #E2EBFA;\n",
              "      box-shadow: 0px 1px 2px rgba(60, 64, 67, 0.3), 0px 1px 3px 1px rgba(60, 64, 67, 0.15);\n",
              "      fill: #174EA6;\n",
              "    }\n",
              "\n",
              "    [theme=dark] .colab-df-convert {\n",
              "      background-color: #3B4455;\n",
              "      fill: #D2E3FC;\n",
              "    }\n",
              "\n",
              "    [theme=dark] .colab-df-convert:hover {\n",
              "      background-color: #434B5C;\n",
              "      box-shadow: 0px 1px 3px 1px rgba(0, 0, 0, 0.15);\n",
              "      filter: drop-shadow(0px 1px 2px rgba(0, 0, 0, 0.3));\n",
              "      fill: #FFFFFF;\n",
              "    }\n",
              "  </style>\n",
              "\n",
              "      <script>\n",
              "        const buttonEl =\n",
              "          document.querySelector('#df-3a5c3182-8272-4513-ae90-8074302b5a46 button.colab-df-convert');\n",
              "        buttonEl.style.display =\n",
              "          google.colab.kernel.accessAllowed ? 'block' : 'none';\n",
              "\n",
              "        async function convertToInteractive(key) {\n",
              "          const element = document.querySelector('#df-3a5c3182-8272-4513-ae90-8074302b5a46');\n",
              "          const dataTable =\n",
              "            await google.colab.kernel.invokeFunction('convertToInteractive',\n",
              "                                                     [key], {});\n",
              "          if (!dataTable) return;\n",
              "\n",
              "          const docLinkHtml = 'Like what you see? Visit the ' +\n",
              "            '<a target=\"_blank\" href=https://colab.research.google.com/notebooks/data_table.ipynb>data table notebook</a>'\n",
              "            + ' to learn more about interactive tables.';\n",
              "          element.innerHTML = '';\n",
              "          dataTable['output_type'] = 'display_data';\n",
              "          await google.colab.output.renderOutput(dataTable, element);\n",
              "          const docLink = document.createElement('div');\n",
              "          docLink.innerHTML = docLinkHtml;\n",
              "          element.appendChild(docLink);\n",
              "        }\n",
              "      </script>\n",
              "    </div>\n",
              "  </div>\n",
              "  "
            ],
            "text/plain": [
              "                                               Images                                          Annotate\n",
              "0      /content/drive/MyDrive/kaggle/images/Cars0.png    /content/drive/MyDrive/kaggle/images/Cars0.xml\n",
              "1      /content/drive/MyDrive/kaggle/images/Cars1.png    /content/drive/MyDrive/kaggle/images/Cars1.xml\n",
              "2     /content/drive/MyDrive/kaggle/images/Cars10.png   /content/drive/MyDrive/kaggle/images/Cars10.xml\n",
              "3    /content/drive/MyDrive/kaggle/images/Cars100.png  /content/drive/MyDrive/kaggle/images/Cars100.xml\n",
              "4    /content/drive/MyDrive/kaggle/images/Cars101.png  /content/drive/MyDrive/kaggle/images/Cars101.xml\n",
              "..                                                ...                                               ...\n",
              "428   /content/drive/MyDrive/kaggle/images/Cars95.png   /content/drive/MyDrive/kaggle/images/Cars95.xml\n",
              "429   /content/drive/MyDrive/kaggle/images/Cars96.png   /content/drive/MyDrive/kaggle/images/Cars96.xml\n",
              "430   /content/drive/MyDrive/kaggle/images/Cars97.png   /content/drive/MyDrive/kaggle/images/Cars97.xml\n",
              "431   /content/drive/MyDrive/kaggle/images/Cars98.png   /content/drive/MyDrive/kaggle/images/Cars98.xml\n",
              "432   /content/drive/MyDrive/kaggle/images/Cars99.png   /content/drive/MyDrive/kaggle/images/Cars99.xml\n",
              "\n",
              "[433 rows x 2 columns]"
            ]
          },
          "metadata": {},
          "execution_count": 37
        }
      ]
    },
    {
      "cell_type": "code",
      "source": [
        "train_df,test_df=train_test_split(data,test_size=0.2,shuffle=True,random_state=42)"
      ],
      "metadata": {
        "id": "0yiD7wmGsp_B"
      },
      "execution_count": null,
      "outputs": []
    },
    {
      "cell_type": "code",
      "source": [
        "train_df=train_df.reset_index()\n",
        "train_df.drop('index',axis=1,inplace=True)"
      ],
      "metadata": {
        "id": "ScthUGbotr33"
      },
      "execution_count": null,
      "outputs": []
    },
    {
      "cell_type": "code",
      "source": [
        "train_df"
      ],
      "metadata": {
        "colab": {
          "base_uri": "https://localhost:8080/",
          "height": 423
        },
        "id": "xqmpeti3yJ4A",
        "outputId": "5ff465a2-7383-40f6-9eb7-423c5d5501e6"
      },
      "execution_count": null,
      "outputs": [
        {
          "output_type": "execute_result",
          "data": {
            "text/html": [
              "\n",
              "  <div id=\"df-dd16f5b0-e52f-4d7e-a683-ec70ade06bd0\">\n",
              "    <div class=\"colab-df-container\">\n",
              "      <div>\n",
              "<style scoped>\n",
              "    .dataframe tbody tr th:only-of-type {\n",
              "        vertical-align: middle;\n",
              "    }\n",
              "\n",
              "    .dataframe tbody tr th {\n",
              "        vertical-align: top;\n",
              "    }\n",
              "\n",
              "    .dataframe thead th {\n",
              "        text-align: right;\n",
              "    }\n",
              "</style>\n",
              "<table border=\"1\" class=\"dataframe\">\n",
              "  <thead>\n",
              "    <tr style=\"text-align: right;\">\n",
              "      <th></th>\n",
              "      <th>Images</th>\n",
              "      <th>Annotate</th>\n",
              "    </tr>\n",
              "  </thead>\n",
              "  <tbody>\n",
              "    <tr>\n",
              "      <th>0</th>\n",
              "      <td>/content/drive/MyDrive/kaggle/images/Cars217.png</td>\n",
              "      <td>/content/drive/MyDrive/kaggle/images/Cars217.xml</td>\n",
              "    </tr>\n",
              "    <tr>\n",
              "      <th>1</th>\n",
              "      <td>/content/drive/MyDrive/kaggle/images/Cars417.png</td>\n",
              "      <td>/content/drive/MyDrive/kaggle/images/Cars417.xml</td>\n",
              "    </tr>\n",
              "    <tr>\n",
              "      <th>2</th>\n",
              "      <td>/content/drive/MyDrive/kaggle/images/Cars126.png</td>\n",
              "      <td>/content/drive/MyDrive/kaggle/images/Cars126.xml</td>\n",
              "    </tr>\n",
              "    <tr>\n",
              "      <th>3</th>\n",
              "      <td>/content/drive/MyDrive/kaggle/images/Cars174.png</td>\n",
              "      <td>/content/drive/MyDrive/kaggle/images/Cars174.xml</td>\n",
              "    </tr>\n",
              "    <tr>\n",
              "      <th>4</th>\n",
              "      <td>/content/drive/MyDrive/kaggle/images/Cars366.png</td>\n",
              "      <td>/content/drive/MyDrive/kaggle/images/Cars366.xml</td>\n",
              "    </tr>\n",
              "    <tr>\n",
              "      <th>...</th>\n",
              "      <td>...</td>\n",
              "      <td>...</td>\n",
              "    </tr>\n",
              "    <tr>\n",
              "      <th>341</th>\n",
              "      <td>/content/drive/MyDrive/kaggle/images/Cars162.png</td>\n",
              "      <td>/content/drive/MyDrive/kaggle/images/Cars162.xml</td>\n",
              "    </tr>\n",
              "    <tr>\n",
              "      <th>342</th>\n",
              "      <td>/content/drive/MyDrive/kaggle/images/Cars194.png</td>\n",
              "      <td>/content/drive/MyDrive/kaggle/images/Cars194.xml</td>\n",
              "    </tr>\n",
              "    <tr>\n",
              "      <th>343</th>\n",
              "      <td>/content/drive/MyDrive/kaggle/images/Cars341.png</td>\n",
              "      <td>/content/drive/MyDrive/kaggle/images/Cars341.xml</td>\n",
              "    </tr>\n",
              "    <tr>\n",
              "      <th>344</th>\n",
              "      <td>/content/drive/MyDrive/kaggle/images/Cars411.png</td>\n",
              "      <td>/content/drive/MyDrive/kaggle/images/Cars411.xml</td>\n",
              "    </tr>\n",
              "    <tr>\n",
              "      <th>345</th>\n",
              "      <td>/content/drive/MyDrive/kaggle/images/Cars190.png</td>\n",
              "      <td>/content/drive/MyDrive/kaggle/images/Cars190.xml</td>\n",
              "    </tr>\n",
              "  </tbody>\n",
              "</table>\n",
              "<p>346 rows × 2 columns</p>\n",
              "</div>\n",
              "      <button class=\"colab-df-convert\" onclick=\"convertToInteractive('df-dd16f5b0-e52f-4d7e-a683-ec70ade06bd0')\"\n",
              "              title=\"Convert this dataframe to an interactive table.\"\n",
              "              style=\"display:none;\">\n",
              "        \n",
              "  <svg xmlns=\"http://www.w3.org/2000/svg\" height=\"24px\"viewBox=\"0 0 24 24\"\n",
              "       width=\"24px\">\n",
              "    <path d=\"M0 0h24v24H0V0z\" fill=\"none\"/>\n",
              "    <path d=\"M18.56 5.44l.94 2.06.94-2.06 2.06-.94-2.06-.94-.94-2.06-.94 2.06-2.06.94zm-11 1L8.5 8.5l.94-2.06 2.06-.94-2.06-.94L8.5 2.5l-.94 2.06-2.06.94zm10 10l.94 2.06.94-2.06 2.06-.94-2.06-.94-.94-2.06-.94 2.06-2.06.94z\"/><path d=\"M17.41 7.96l-1.37-1.37c-.4-.4-.92-.59-1.43-.59-.52 0-1.04.2-1.43.59L10.3 9.45l-7.72 7.72c-.78.78-.78 2.05 0 2.83L4 21.41c.39.39.9.59 1.41.59.51 0 1.02-.2 1.41-.59l7.78-7.78 2.81-2.81c.8-.78.8-2.07 0-2.86zM5.41 20L4 18.59l7.72-7.72 1.47 1.35L5.41 20z\"/>\n",
              "  </svg>\n",
              "      </button>\n",
              "      \n",
              "  <style>\n",
              "    .colab-df-container {\n",
              "      display:flex;\n",
              "      flex-wrap:wrap;\n",
              "      gap: 12px;\n",
              "    }\n",
              "\n",
              "    .colab-df-convert {\n",
              "      background-color: #E8F0FE;\n",
              "      border: none;\n",
              "      border-radius: 50%;\n",
              "      cursor: pointer;\n",
              "      display: none;\n",
              "      fill: #1967D2;\n",
              "      height: 32px;\n",
              "      padding: 0 0 0 0;\n",
              "      width: 32px;\n",
              "    }\n",
              "\n",
              "    .colab-df-convert:hover {\n",
              "      background-color: #E2EBFA;\n",
              "      box-shadow: 0px 1px 2px rgba(60, 64, 67, 0.3), 0px 1px 3px 1px rgba(60, 64, 67, 0.15);\n",
              "      fill: #174EA6;\n",
              "    }\n",
              "\n",
              "    [theme=dark] .colab-df-convert {\n",
              "      background-color: #3B4455;\n",
              "      fill: #D2E3FC;\n",
              "    }\n",
              "\n",
              "    [theme=dark] .colab-df-convert:hover {\n",
              "      background-color: #434B5C;\n",
              "      box-shadow: 0px 1px 3px 1px rgba(0, 0, 0, 0.15);\n",
              "      filter: drop-shadow(0px 1px 2px rgba(0, 0, 0, 0.3));\n",
              "      fill: #FFFFFF;\n",
              "    }\n",
              "  </style>\n",
              "\n",
              "      <script>\n",
              "        const buttonEl =\n",
              "          document.querySelector('#df-dd16f5b0-e52f-4d7e-a683-ec70ade06bd0 button.colab-df-convert');\n",
              "        buttonEl.style.display =\n",
              "          google.colab.kernel.accessAllowed ? 'block' : 'none';\n",
              "\n",
              "        async function convertToInteractive(key) {\n",
              "          const element = document.querySelector('#df-dd16f5b0-e52f-4d7e-a683-ec70ade06bd0');\n",
              "          const dataTable =\n",
              "            await google.colab.kernel.invokeFunction('convertToInteractive',\n",
              "                                                     [key], {});\n",
              "          if (!dataTable) return;\n",
              "\n",
              "          const docLinkHtml = 'Like what you see? Visit the ' +\n",
              "            '<a target=\"_blank\" href=https://colab.research.google.com/notebooks/data_table.ipynb>data table notebook</a>'\n",
              "            + ' to learn more about interactive tables.';\n",
              "          element.innerHTML = '';\n",
              "          dataTable['output_type'] = 'display_data';\n",
              "          await google.colab.output.renderOutput(dataTable, element);\n",
              "          const docLink = document.createElement('div');\n",
              "          docLink.innerHTML = docLinkHtml;\n",
              "          element.appendChild(docLink);\n",
              "        }\n",
              "      </script>\n",
              "    </div>\n",
              "  </div>\n",
              "  "
            ],
            "text/plain": [
              "                                               Images                                          Annotate\n",
              "0    /content/drive/MyDrive/kaggle/images/Cars217.png  /content/drive/MyDrive/kaggle/images/Cars217.xml\n",
              "1    /content/drive/MyDrive/kaggle/images/Cars417.png  /content/drive/MyDrive/kaggle/images/Cars417.xml\n",
              "2    /content/drive/MyDrive/kaggle/images/Cars126.png  /content/drive/MyDrive/kaggle/images/Cars126.xml\n",
              "3    /content/drive/MyDrive/kaggle/images/Cars174.png  /content/drive/MyDrive/kaggle/images/Cars174.xml\n",
              "4    /content/drive/MyDrive/kaggle/images/Cars366.png  /content/drive/MyDrive/kaggle/images/Cars366.xml\n",
              "..                                                ...                                               ...\n",
              "341  /content/drive/MyDrive/kaggle/images/Cars162.png  /content/drive/MyDrive/kaggle/images/Cars162.xml\n",
              "342  /content/drive/MyDrive/kaggle/images/Cars194.png  /content/drive/MyDrive/kaggle/images/Cars194.xml\n",
              "343  /content/drive/MyDrive/kaggle/images/Cars341.png  /content/drive/MyDrive/kaggle/images/Cars341.xml\n",
              "344  /content/drive/MyDrive/kaggle/images/Cars411.png  /content/drive/MyDrive/kaggle/images/Cars411.xml\n",
              "345  /content/drive/MyDrive/kaggle/images/Cars190.png  /content/drive/MyDrive/kaggle/images/Cars190.xml\n",
              "\n",
              "[346 rows x 2 columns]"
            ]
          },
          "metadata": {},
          "execution_count": 53
        }
      ]
    },
    {
      "cell_type": "code",
      "source": [
        "test_df=test_df.reset_index()\n",
        "test_df.drop('index',axis=1,inplace=True)\n",
        "test_df"
      ],
      "metadata": {
        "colab": {
          "base_uri": "https://localhost:8080/",
          "height": 423
        },
        "id": "FDtEdlr7wI7g",
        "outputId": "654e4b11-3644-40de-855c-f5c4e87a046a"
      },
      "execution_count": null,
      "outputs": [
        {
          "output_type": "execute_result",
          "data": {
            "text/html": [
              "\n",
              "  <div id=\"df-6154515a-1464-4bda-9fc0-f8594075694d\">\n",
              "    <div class=\"colab-df-container\">\n",
              "      <div>\n",
              "<style scoped>\n",
              "    .dataframe tbody tr th:only-of-type {\n",
              "        vertical-align: middle;\n",
              "    }\n",
              "\n",
              "    .dataframe tbody tr th {\n",
              "        vertical-align: top;\n",
              "    }\n",
              "\n",
              "    .dataframe thead th {\n",
              "        text-align: right;\n",
              "    }\n",
              "</style>\n",
              "<table border=\"1\" class=\"dataframe\">\n",
              "  <thead>\n",
              "    <tr style=\"text-align: right;\">\n",
              "      <th></th>\n",
              "      <th>Images</th>\n",
              "      <th>Annotate</th>\n",
              "    </tr>\n",
              "  </thead>\n",
              "  <tbody>\n",
              "    <tr>\n",
              "      <th>0</th>\n",
              "      <td>/content/drive/MyDrive/kaggle/images/Cars92.png</td>\n",
              "      <td>/content/drive/MyDrive/kaggle/images/Cars92.xml</td>\n",
              "    </tr>\n",
              "    <tr>\n",
              "      <th>1</th>\n",
              "      <td>/content/drive/MyDrive/kaggle/images/Cars166.png</td>\n",
              "      <td>/content/drive/MyDrive/kaggle/images/Cars166.xml</td>\n",
              "    </tr>\n",
              "    <tr>\n",
              "      <th>2</th>\n",
              "      <td>/content/drive/MyDrive/kaggle/images/Cars261.png</td>\n",
              "      <td>/content/drive/MyDrive/kaggle/images/Cars261.xml</td>\n",
              "    </tr>\n",
              "    <tr>\n",
              "      <th>3</th>\n",
              "      <td>/content/drive/MyDrive/kaggle/images/Cars125.png</td>\n",
              "      <td>/content/drive/MyDrive/kaggle/images/Cars125.xml</td>\n",
              "    </tr>\n",
              "    <tr>\n",
              "      <th>4</th>\n",
              "      <td>/content/drive/MyDrive/kaggle/images/Cars426.png</td>\n",
              "      <td>/content/drive/MyDrive/kaggle/images/Cars426.xml</td>\n",
              "    </tr>\n",
              "    <tr>\n",
              "      <th>...</th>\n",
              "      <td>...</td>\n",
              "      <td>...</td>\n",
              "    </tr>\n",
              "    <tr>\n",
              "      <th>82</th>\n",
              "      <td>/content/drive/MyDrive/kaggle/images/Cars15.png</td>\n",
              "      <td>/content/drive/MyDrive/kaggle/images/Cars15.xml</td>\n",
              "    </tr>\n",
              "    <tr>\n",
              "      <th>83</th>\n",
              "      <td>/content/drive/MyDrive/kaggle/images/Cars21.png</td>\n",
              "      <td>/content/drive/MyDrive/kaggle/images/Cars21.xml</td>\n",
              "    </tr>\n",
              "    <tr>\n",
              "      <th>84</th>\n",
              "      <td>/content/drive/MyDrive/kaggle/images/Cars12.png</td>\n",
              "      <td>/content/drive/MyDrive/kaggle/images/Cars12.xml</td>\n",
              "    </tr>\n",
              "    <tr>\n",
              "      <th>85</th>\n",
              "      <td>/content/drive/MyDrive/kaggle/images/Cars113.png</td>\n",
              "      <td>/content/drive/MyDrive/kaggle/images/Cars113.xml</td>\n",
              "    </tr>\n",
              "    <tr>\n",
              "      <th>86</th>\n",
              "      <td>/content/drive/MyDrive/kaggle/images/Cars158.png</td>\n",
              "      <td>/content/drive/MyDrive/kaggle/images/Cars158.xml</td>\n",
              "    </tr>\n",
              "  </tbody>\n",
              "</table>\n",
              "<p>87 rows × 2 columns</p>\n",
              "</div>\n",
              "      <button class=\"colab-df-convert\" onclick=\"convertToInteractive('df-6154515a-1464-4bda-9fc0-f8594075694d')\"\n",
              "              title=\"Convert this dataframe to an interactive table.\"\n",
              "              style=\"display:none;\">\n",
              "        \n",
              "  <svg xmlns=\"http://www.w3.org/2000/svg\" height=\"24px\"viewBox=\"0 0 24 24\"\n",
              "       width=\"24px\">\n",
              "    <path d=\"M0 0h24v24H0V0z\" fill=\"none\"/>\n",
              "    <path d=\"M18.56 5.44l.94 2.06.94-2.06 2.06-.94-2.06-.94-.94-2.06-.94 2.06-2.06.94zm-11 1L8.5 8.5l.94-2.06 2.06-.94-2.06-.94L8.5 2.5l-.94 2.06-2.06.94zm10 10l.94 2.06.94-2.06 2.06-.94-2.06-.94-.94-2.06-.94 2.06-2.06.94z\"/><path d=\"M17.41 7.96l-1.37-1.37c-.4-.4-.92-.59-1.43-.59-.52 0-1.04.2-1.43.59L10.3 9.45l-7.72 7.72c-.78.78-.78 2.05 0 2.83L4 21.41c.39.39.9.59 1.41.59.51 0 1.02-.2 1.41-.59l7.78-7.78 2.81-2.81c.8-.78.8-2.07 0-2.86zM5.41 20L4 18.59l7.72-7.72 1.47 1.35L5.41 20z\"/>\n",
              "  </svg>\n",
              "      </button>\n",
              "      \n",
              "  <style>\n",
              "    .colab-df-container {\n",
              "      display:flex;\n",
              "      flex-wrap:wrap;\n",
              "      gap: 12px;\n",
              "    }\n",
              "\n",
              "    .colab-df-convert {\n",
              "      background-color: #E8F0FE;\n",
              "      border: none;\n",
              "      border-radius: 50%;\n",
              "      cursor: pointer;\n",
              "      display: none;\n",
              "      fill: #1967D2;\n",
              "      height: 32px;\n",
              "      padding: 0 0 0 0;\n",
              "      width: 32px;\n",
              "    }\n",
              "\n",
              "    .colab-df-convert:hover {\n",
              "      background-color: #E2EBFA;\n",
              "      box-shadow: 0px 1px 2px rgba(60, 64, 67, 0.3), 0px 1px 3px 1px rgba(60, 64, 67, 0.15);\n",
              "      fill: #174EA6;\n",
              "    }\n",
              "\n",
              "    [theme=dark] .colab-df-convert {\n",
              "      background-color: #3B4455;\n",
              "      fill: #D2E3FC;\n",
              "    }\n",
              "\n",
              "    [theme=dark] .colab-df-convert:hover {\n",
              "      background-color: #434B5C;\n",
              "      box-shadow: 0px 1px 3px 1px rgba(0, 0, 0, 0.15);\n",
              "      filter: drop-shadow(0px 1px 2px rgba(0, 0, 0, 0.3));\n",
              "      fill: #FFFFFF;\n",
              "    }\n",
              "  </style>\n",
              "\n",
              "      <script>\n",
              "        const buttonEl =\n",
              "          document.querySelector('#df-6154515a-1464-4bda-9fc0-f8594075694d button.colab-df-convert');\n",
              "        buttonEl.style.display =\n",
              "          google.colab.kernel.accessAllowed ? 'block' : 'none';\n",
              "\n",
              "        async function convertToInteractive(key) {\n",
              "          const element = document.querySelector('#df-6154515a-1464-4bda-9fc0-f8594075694d');\n",
              "          const dataTable =\n",
              "            await google.colab.kernel.invokeFunction('convertToInteractive',\n",
              "                                                     [key], {});\n",
              "          if (!dataTable) return;\n",
              "\n",
              "          const docLinkHtml = 'Like what you see? Visit the ' +\n",
              "            '<a target=\"_blank\" href=https://colab.research.google.com/notebooks/data_table.ipynb>data table notebook</a>'\n",
              "            + ' to learn more about interactive tables.';\n",
              "          element.innerHTML = '';\n",
              "          dataTable['output_type'] = 'display_data';\n",
              "          await google.colab.output.renderOutput(dataTable, element);\n",
              "          const docLink = document.createElement('div');\n",
              "          docLink.innerHTML = docLinkHtml;\n",
              "          element.appendChild(docLink);\n",
              "        }\n",
              "      </script>\n",
              "    </div>\n",
              "  </div>\n",
              "  "
            ],
            "text/plain": [
              "                                              Images                                          Annotate\n",
              "0    /content/drive/MyDrive/kaggle/images/Cars92.png   /content/drive/MyDrive/kaggle/images/Cars92.xml\n",
              "1   /content/drive/MyDrive/kaggle/images/Cars166.png  /content/drive/MyDrive/kaggle/images/Cars166.xml\n",
              "2   /content/drive/MyDrive/kaggle/images/Cars261.png  /content/drive/MyDrive/kaggle/images/Cars261.xml\n",
              "3   /content/drive/MyDrive/kaggle/images/Cars125.png  /content/drive/MyDrive/kaggle/images/Cars125.xml\n",
              "4   /content/drive/MyDrive/kaggle/images/Cars426.png  /content/drive/MyDrive/kaggle/images/Cars426.xml\n",
              "..                                               ...                                               ...\n",
              "82   /content/drive/MyDrive/kaggle/images/Cars15.png   /content/drive/MyDrive/kaggle/images/Cars15.xml\n",
              "83   /content/drive/MyDrive/kaggle/images/Cars21.png   /content/drive/MyDrive/kaggle/images/Cars21.xml\n",
              "84   /content/drive/MyDrive/kaggle/images/Cars12.png   /content/drive/MyDrive/kaggle/images/Cars12.xml\n",
              "85  /content/drive/MyDrive/kaggle/images/Cars113.png  /content/drive/MyDrive/kaggle/images/Cars113.xml\n",
              "86  /content/drive/MyDrive/kaggle/images/Cars158.png  /content/drive/MyDrive/kaggle/images/Cars158.xml\n",
              "\n",
              "[87 rows x 2 columns]"
            ]
          },
          "metadata": {},
          "execution_count": 54
        }
      ]
    },
    {
      "cell_type": "markdown",
      "source": [
        "# Now we need to transfer images from train_df to train folder and test_df to test folder under images in car_license_plate_detcetor"
      ],
      "metadata": {
        "id": "onXdMX-qwOzR"
      }
    },
    {
      "cell_type": "code",
      "source": [
        "train_path='/content/drive/MyDrive/objet detection_personal_data/car_license_plate_detection/images/train'\n",
        "test_path='/content/drive/MyDrive/objet detection_personal_data/car_license_plate_detection/images/test'\n",
        "\n",
        "dataframes=[(train_df,train_path),(test_df,test_path)]\n",
        "for d in dataframes:\n",
        "  frame,path=d\n",
        "  for i in range(len(frame)):\n",
        "    shutil.move(frame.iloc[i]['Images'],path)\n",
        "    shutil.move(frame.iloc[i]['Annotate'],path)"
      ],
      "metadata": {
        "id": "buzM3tLdwMc8"
      },
      "execution_count": null,
      "outputs": []
    },
    {
      "cell_type": "markdown",
      "source": [
        "# **Successfully moved the entire data from kaggle folder to our main folder**"
      ],
      "metadata": {
        "id": "n7ZXDnIt2Ngs"
      }
    },
    {
      "cell_type": "code",
      "source": [
        "# deletetig the entire images folder in kaggle\n",
        "os.rmdir('/content/drive/MyDrive/kaggle/images')"
      ],
      "metadata": {
        "id": "iERBumrd1rGE"
      },
      "execution_count": null,
      "outputs": []
    },
    {
      "cell_type": "markdown",
      "source": [
        "# **installation for Object detection**"
      ],
      "metadata": {
        "id": "5OUzh0AK2utD"
      }
    },
    {
      "cell_type": "markdown",
      "source": [
        "**cloning tensorflow github**\n",
        "\n",
        "link:-https://github.com/tensorflow/models"
      ],
      "metadata": {
        "id": "9BTkhIF5OFFS"
      }
    },
    {
      "cell_type": "code",
      "source": [
        "os.chdir('/content/drive/MyDrive/Object detection')\n",
        "! git clone https://github.com/tensorflow/models"
      ],
      "metadata": {
        "colab": {
          "base_uri": "https://localhost:8080/"
        },
        "id": "YPyN4RIXOEu7",
        "outputId": "7c4712c2-335b-4188-de3b-3be241190c99"
      },
      "execution_count": 3,
      "outputs": [
        {
          "output_type": "stream",
          "name": "stdout",
          "text": [
            "Cloning into 'models'...\n",
            "remote: Enumerating objects: 68403, done.\u001b[K\n",
            "remote: Total 68403 (delta 0), reused 0 (delta 0), pack-reused 68403\u001b[K\n",
            "Receiving objects: 100% (68403/68403), 576.53 MiB | 12.40 MiB/s, done.\n",
            "Resolving deltas: 100% (48059/48059), done.\n",
            "Checking out files: 100% (2894/2894), done.\n"
          ]
        }
      ]
    },
    {
      "cell_type": "markdown",
      "source": [
        "# Protobuff Installation\n",
        "\n",
        "it is udsed to configure the model and training parametes"
      ],
      "metadata": {
        "id": "C3OFXwLqQkPt"
      }
    },
    {
      "cell_type": "code",
      "source": [
        "os.chdir('/content/drive/MyDrive/Object detection/models/research')\n",
        "! protoc object_detection/protos/*.proto --python_out=."
      ],
      "metadata": {
        "id": "dHf02FDo2kA6"
      },
      "execution_count": 5,
      "outputs": []
    },
    {
      "cell_type": "markdown",
      "source": [
        "# COCO Api Installation"
      ],
      "metadata": {
        "id": "PCfsYsecROWB"
      }
    },
    {
      "cell_type": "code",
      "source": [
        "! git clone https://github.com/cocodataset/cocoapi.git\n",
        "!cd cocoapi/PythonAPI\n",
        "!make\n",
        "!cp -r pycocotools /content/drive/MyDrive/Object detection/models/research/"
      ],
      "metadata": {
        "colab": {
          "base_uri": "https://localhost:8080/"
        },
        "id": "2XykIRsDQ6yD",
        "outputId": "ff57ab13-510e-4716-c098-6297ee13cc00"
      },
      "execution_count": 9,
      "outputs": [
        {
          "output_type": "stream",
          "name": "stdout",
          "text": [
            "fatal: destination path 'cocoapi' already exists and is not an empty directory.\n",
            "make: *** No targets specified and no makefile found.  Stop.\n",
            "cp: target 'detection/models/research/' is not a directory\n"
          ]
        }
      ]
    },
    {
      "cell_type": "markdown",
      "source": [
        "# Installing Object Dtection Api"
      ],
      "metadata": {
        "id": "NaKSziOKR4pn"
      }
    },
    {
      "cell_type": "code",
      "source": [
        "!cp object_detection/packages/tf2/setup.py ."
      ],
      "metadata": {
        "id": "hZvcmrs3Rjyr"
      },
      "execution_count": 10,
      "outputs": []
    },
    {
      "cell_type": "code",
      "source": [
        "!python -m pip install --use-feature=2020-resolver ."
      ],
      "metadata": {
        "colab": {
          "base_uri": "https://localhost:8080/"
        },
        "id": "2nvc8uJXSAM6",
        "outputId": "487ab251-943e-476e-da3b-a3f319b251cd"
      },
      "execution_count": 12,
      "outputs": [
        {
          "output_type": "stream",
          "name": "stdout",
          "text": [
            "\u001b[33mWARNING: --use-feature=2020-resolver no longer has any effect, since it is now the default dependency resolver in pip. This will become an error in pip 21.0.\u001b[0m\n",
            "Processing /content/drive/My Drive/Object detection/models/research\n",
            "\u001b[33m  DEPRECATION: A future pip version will change local packages to be built in-place without first copying to a temporary directory. We recommend you use --use-feature=in-tree-build to test your packages with this new behavior before it becomes the default.\n",
            "   pip 21.3 will remove support for this functionality. You can find discussion regarding this at https://github.com/pypa/pip/issues/7555.\u001b[0m\n",
            "Collecting avro-python3\n",
            "  Downloading avro-python3-1.10.2.tar.gz (38 kB)\n",
            "Collecting apache-beam\n",
            "  Downloading apache_beam-2.35.0-cp37-cp37m-manylinux2010_x86_64.whl (9.9 MB)\n",
            "\u001b[K     |████████████████████████████████| 9.9 MB 50.3 MB/s \n",
            "\u001b[?25hRequirement already satisfied: pillow in /usr/local/lib/python3.7/dist-packages (from object-detection==0.1) (7.1.2)\n",
            "Requirement already satisfied: lxml in /usr/local/lib/python3.7/dist-packages (from object-detection==0.1) (4.2.6)\n",
            "Requirement already satisfied: matplotlib in /usr/local/lib/python3.7/dist-packages (from object-detection==0.1) (3.2.2)\n",
            "Requirement already satisfied: Cython in /usr/local/lib/python3.7/dist-packages (from object-detection==0.1) (0.29.24)\n",
            "Requirement already satisfied: contextlib2 in /usr/local/lib/python3.7/dist-packages (from object-detection==0.1) (0.5.5)\n",
            "Collecting tf-slim\n",
            "  Downloading tf_slim-1.1.0-py2.py3-none-any.whl (352 kB)\n",
            "\u001b[K     |████████████████████████████████| 352 kB 69.0 MB/s \n",
            "\u001b[?25hRequirement already satisfied: six in /usr/local/lib/python3.7/dist-packages (from object-detection==0.1) (1.15.0)\n",
            "Requirement already satisfied: pycocotools in /usr/local/lib/python3.7/dist-packages (from object-detection==0.1) (2.0.3)\n",
            "Collecting lvis\n",
            "  Downloading lvis-0.5.3-py3-none-any.whl (14 kB)\n",
            "Requirement already satisfied: scipy in /usr/local/lib/python3.7/dist-packages (from object-detection==0.1) (1.4.1)\n",
            "Requirement already satisfied: pandas in /usr/local/lib/python3.7/dist-packages (from object-detection==0.1) (1.1.5)\n",
            "Collecting tf-models-official>=2.5.1\n",
            "  Downloading tf_models_official-2.7.0-py2.py3-none-any.whl (1.8 MB)\n",
            "\u001b[K     |████████████████████████████████| 1.8 MB 22.1 MB/s \n",
            "\u001b[?25hCollecting tensorflow_io\n",
            "  Downloading tensorflow_io-0.23.1-cp37-cp37m-manylinux_2_12_x86_64.manylinux2010_x86_64.whl (23.1 MB)\n",
            "\u001b[K     |████████████████████████████████| 23.1 MB 1.3 MB/s \n",
            "\u001b[?25hRequirement already satisfied: keras in /usr/local/lib/python3.7/dist-packages (from object-detection==0.1) (2.7.0)\n",
            "Requirement already satisfied: tensorflow-datasets in /usr/local/lib/python3.7/dist-packages (from tf-models-official>=2.5.1->object-detection==0.1) (4.0.1)\n",
            "Requirement already satisfied: oauth2client in /usr/local/lib/python3.7/dist-packages (from tf-models-official>=2.5.1->object-detection==0.1) (4.1.3)\n",
            "Requirement already satisfied: google-api-python-client>=1.6.7 in /usr/local/lib/python3.7/dist-packages (from tf-models-official>=2.5.1->object-detection==0.1) (1.12.8)\n",
            "Requirement already satisfied: gin-config in /usr/local/lib/python3.7/dist-packages (from tf-models-official>=2.5.1->object-detection==0.1) (0.5.0)\n",
            "Requirement already satisfied: kaggle>=1.3.9 in /usr/local/lib/python3.7/dist-packages (from tf-models-official>=2.5.1->object-detection==0.1) (1.5.12)\n",
            "Collecting py-cpuinfo>=3.3.0\n",
            "  Downloading py-cpuinfo-8.0.0.tar.gz (99 kB)\n",
            "\u001b[K     |████████████████████████████████| 99 kB 7.9 MB/s \n",
            "\u001b[?25hCollecting pyyaml>=5.1\n",
            "  Downloading PyYAML-6.0-cp37-cp37m-manylinux_2_5_x86_64.manylinux1_x86_64.manylinux_2_12_x86_64.manylinux2010_x86_64.whl (596 kB)\n",
            "\u001b[K     |████████████████████████████████| 596 kB 53.5 MB/s \n",
            "\u001b[?25hCollecting tensorflow-model-optimization>=0.4.1\n",
            "  Downloading tensorflow_model_optimization-0.7.0-py2.py3-none-any.whl (213 kB)\n",
            "\u001b[K     |████████████████████████████████| 213 kB 60.0 MB/s \n",
            "\u001b[?25hRequirement already satisfied: psutil>=5.4.3 in /usr/local/lib/python3.7/dist-packages (from tf-models-official>=2.5.1->object-detection==0.1) (5.4.8)\n",
            "Collecting sacrebleu\n",
            "  Downloading sacrebleu-2.0.0-py3-none-any.whl (90 kB)\n",
            "\u001b[K     |████████████████████████████████| 90 kB 9.4 MB/s \n",
            "\u001b[?25hRequirement already satisfied: tensorflow-hub>=0.6.0 in /usr/local/lib/python3.7/dist-packages (from tf-models-official>=2.5.1->object-detection==0.1) (0.12.0)\n",
            "Collecting seqeval\n",
            "  Downloading seqeval-1.2.2.tar.gz (43 kB)\n",
            "\u001b[K     |████████████████████████████████| 43 kB 2.3 MB/s \n",
            "\u001b[?25hCollecting tensorflow-text>=2.7.0\n",
            "  Downloading tensorflow_text-2.7.3-cp37-cp37m-manylinux2010_x86_64.whl (4.9 MB)\n",
            "\u001b[K     |████████████████████████████████| 4.9 MB 62.1 MB/s \n",
            "\u001b[?25hRequirement already satisfied: numpy>=1.15.4 in /usr/local/lib/python3.7/dist-packages (from tf-models-official>=2.5.1->object-detection==0.1) (1.19.5)\n",
            "Collecting tensorflow-addons\n",
            "  Downloading tensorflow_addons-0.15.0-cp37-cp37m-manylinux_2_12_x86_64.manylinux2010_x86_64.whl (1.1 MB)\n",
            "\u001b[K     |████████████████████████████████| 1.1 MB 57.4 MB/s \n",
            "\u001b[?25hCollecting opencv-python-headless\n",
            "  Downloading opencv_python_headless-4.5.5.62-cp36-abi3-manylinux_2_17_x86_64.manylinux2014_x86_64.whl (47.7 MB)\n",
            "\u001b[K     |████████████████████████████████| 47.7 MB 1.8 MB/s \n",
            "\u001b[?25hCollecting sentencepiece\n",
            "  Downloading sentencepiece-0.1.96-cp37-cp37m-manylinux_2_17_x86_64.manylinux2014_x86_64.whl (1.2 MB)\n",
            "\u001b[K     |████████████████████████████████| 1.2 MB 73.4 MB/s \n",
            "\u001b[?25hRequirement already satisfied: tensorflow>=2.7.0 in /usr/local/lib/python3.7/dist-packages (from tf-models-official>=2.5.1->object-detection==0.1) (2.7.0)\n",
            "Requirement already satisfied: google-auth>=1.16.0 in /usr/local/lib/python3.7/dist-packages (from google-api-python-client>=1.6.7->tf-models-official>=2.5.1->object-detection==0.1) (1.35.0)\n",
            "Requirement already satisfied: httplib2<1dev,>=0.15.0 in /usr/local/lib/python3.7/dist-packages (from google-api-python-client>=1.6.7->tf-models-official>=2.5.1->object-detection==0.1) (0.17.4)\n",
            "Requirement already satisfied: uritemplate<4dev,>=3.0.0 in /usr/local/lib/python3.7/dist-packages (from google-api-python-client>=1.6.7->tf-models-official>=2.5.1->object-detection==0.1) (3.0.1)\n",
            "Requirement already satisfied: google-auth-httplib2>=0.0.3 in /usr/local/lib/python3.7/dist-packages (from google-api-python-client>=1.6.7->tf-models-official>=2.5.1->object-detection==0.1) (0.0.4)\n",
            "Requirement already satisfied: google-api-core<2dev,>=1.21.0 in /usr/local/lib/python3.7/dist-packages (from google-api-python-client>=1.6.7->tf-models-official>=2.5.1->object-detection==0.1) (1.26.3)\n",
            "Requirement already satisfied: setuptools>=40.3.0 in /usr/local/lib/python3.7/dist-packages (from google-api-core<2dev,>=1.21.0->google-api-python-client>=1.6.7->tf-models-official>=2.5.1->object-detection==0.1) (57.4.0)\n",
            "Requirement already satisfied: packaging>=14.3 in /usr/local/lib/python3.7/dist-packages (from google-api-core<2dev,>=1.21.0->google-api-python-client>=1.6.7->tf-models-official>=2.5.1->object-detection==0.1) (21.3)\n",
            "Requirement already satisfied: googleapis-common-protos<2.0dev,>=1.6.0 in /usr/local/lib/python3.7/dist-packages (from google-api-core<2dev,>=1.21.0->google-api-python-client>=1.6.7->tf-models-official>=2.5.1->object-detection==0.1) (1.53.0)\n",
            "Requirement already satisfied: requests<3.0.0dev,>=2.18.0 in /usr/local/lib/python3.7/dist-packages (from google-api-core<2dev,>=1.21.0->google-api-python-client>=1.6.7->tf-models-official>=2.5.1->object-detection==0.1) (2.23.0)\n",
            "Requirement already satisfied: pytz in /usr/local/lib/python3.7/dist-packages (from google-api-core<2dev,>=1.21.0->google-api-python-client>=1.6.7->tf-models-official>=2.5.1->object-detection==0.1) (2018.9)\n",
            "Requirement already satisfied: protobuf>=3.12.0 in /usr/local/lib/python3.7/dist-packages (from google-api-core<2dev,>=1.21.0->google-api-python-client>=1.6.7->tf-models-official>=2.5.1->object-detection==0.1) (3.17.3)\n",
            "Requirement already satisfied: rsa<5,>=3.1.4 in /usr/local/lib/python3.7/dist-packages (from google-auth>=1.16.0->google-api-python-client>=1.6.7->tf-models-official>=2.5.1->object-detection==0.1) (4.8)\n",
            "Requirement already satisfied: cachetools<5.0,>=2.0.0 in /usr/local/lib/python3.7/dist-packages (from google-auth>=1.16.0->google-api-python-client>=1.6.7->tf-models-official>=2.5.1->object-detection==0.1) (4.2.4)\n",
            "Requirement already satisfied: pyasn1-modules>=0.2.1 in /usr/local/lib/python3.7/dist-packages (from google-auth>=1.16.0->google-api-python-client>=1.6.7->tf-models-official>=2.5.1->object-detection==0.1) (0.2.8)\n",
            "Requirement already satisfied: tqdm in /usr/local/lib/python3.7/dist-packages (from kaggle>=1.3.9->tf-models-official>=2.5.1->object-detection==0.1) (4.62.3)\n",
            "Requirement already satisfied: certifi in /usr/local/lib/python3.7/dist-packages (from kaggle>=1.3.9->tf-models-official>=2.5.1->object-detection==0.1) (2021.10.8)\n",
            "Requirement already satisfied: python-dateutil in /usr/local/lib/python3.7/dist-packages (from kaggle>=1.3.9->tf-models-official>=2.5.1->object-detection==0.1) (2.8.2)\n",
            "Requirement already satisfied: python-slugify in /usr/local/lib/python3.7/dist-packages (from kaggle>=1.3.9->tf-models-official>=2.5.1->object-detection==0.1) (5.0.2)\n",
            "Requirement already satisfied: urllib3 in /usr/local/lib/python3.7/dist-packages (from kaggle>=1.3.9->tf-models-official>=2.5.1->object-detection==0.1) (1.24.3)\n",
            "Requirement already satisfied: pyparsing!=3.0.5,>=2.0.2 in /usr/local/lib/python3.7/dist-packages (from packaging>=14.3->google-api-core<2dev,>=1.21.0->google-api-python-client>=1.6.7->tf-models-official>=2.5.1->object-detection==0.1) (3.0.6)\n",
            "Requirement already satisfied: pyasn1<0.5.0,>=0.4.6 in /usr/local/lib/python3.7/dist-packages (from pyasn1-modules>=0.2.1->google-auth>=1.16.0->google-api-python-client>=1.6.7->tf-models-official>=2.5.1->object-detection==0.1) (0.4.8)\n",
            "Requirement already satisfied: idna<3,>=2.5 in /usr/local/lib/python3.7/dist-packages (from requests<3.0.0dev,>=2.18.0->google-api-core<2dev,>=1.21.0->google-api-python-client>=1.6.7->tf-models-official>=2.5.1->object-detection==0.1) (2.10)\n",
            "Requirement already satisfied: chardet<4,>=3.0.2 in /usr/local/lib/python3.7/dist-packages (from requests<3.0.0dev,>=2.18.0->google-api-core<2dev,>=1.21.0->google-api-python-client>=1.6.7->tf-models-official>=2.5.1->object-detection==0.1) (3.0.4)\n",
            "Requirement already satisfied: wrapt>=1.11.0 in /usr/local/lib/python3.7/dist-packages (from tensorflow>=2.7.0->tf-models-official>=2.5.1->object-detection==0.1) (1.13.3)\n",
            "Requirement already satisfied: flatbuffers<3.0,>=1.12 in /usr/local/lib/python3.7/dist-packages (from tensorflow>=2.7.0->tf-models-official>=2.5.1->object-detection==0.1) (2.0)\n",
            "Requirement already satisfied: google-pasta>=0.1.1 in /usr/local/lib/python3.7/dist-packages (from tensorflow>=2.7.0->tf-models-official>=2.5.1->object-detection==0.1) (0.2.0)\n",
            "Requirement already satisfied: tensorflow-estimator<2.8,~=2.7.0rc0 in /usr/local/lib/python3.7/dist-packages (from tensorflow>=2.7.0->tf-models-official>=2.5.1->object-detection==0.1) (2.7.0)\n",
            "Requirement already satisfied: h5py>=2.9.0 in /usr/local/lib/python3.7/dist-packages (from tensorflow>=2.7.0->tf-models-official>=2.5.1->object-detection==0.1) (3.1.0)\n",
            "Requirement already satisfied: termcolor>=1.1.0 in /usr/local/lib/python3.7/dist-packages (from tensorflow>=2.7.0->tf-models-official>=2.5.1->object-detection==0.1) (1.1.0)\n",
            "Requirement already satisfied: keras-preprocessing>=1.1.1 in /usr/local/lib/python3.7/dist-packages (from tensorflow>=2.7.0->tf-models-official>=2.5.1->object-detection==0.1) (1.1.2)\n",
            "Requirement already satisfied: absl-py>=0.4.0 in /usr/local/lib/python3.7/dist-packages (from tensorflow>=2.7.0->tf-models-official>=2.5.1->object-detection==0.1) (0.12.0)\n",
            "Requirement already satisfied: astunparse>=1.6.0 in /usr/local/lib/python3.7/dist-packages (from tensorflow>=2.7.0->tf-models-official>=2.5.1->object-detection==0.1) (1.6.3)\n",
            "Requirement already satisfied: typing-extensions>=3.6.6 in /usr/local/lib/python3.7/dist-packages (from tensorflow>=2.7.0->tf-models-official>=2.5.1->object-detection==0.1) (3.10.0.2)\n",
            "Requirement already satisfied: libclang>=9.0.1 in /usr/local/lib/python3.7/dist-packages (from tensorflow>=2.7.0->tf-models-official>=2.5.1->object-detection==0.1) (12.0.0)\n",
            "Requirement already satisfied: wheel<1.0,>=0.32.0 in /usr/local/lib/python3.7/dist-packages (from tensorflow>=2.7.0->tf-models-official>=2.5.1->object-detection==0.1) (0.37.0)\n",
            "Requirement already satisfied: grpcio<2.0,>=1.24.3 in /usr/local/lib/python3.7/dist-packages (from tensorflow>=2.7.0->tf-models-official>=2.5.1->object-detection==0.1) (1.42.0)\n",
            "Requirement already satisfied: tensorboard~=2.6 in /usr/local/lib/python3.7/dist-packages (from tensorflow>=2.7.0->tf-models-official>=2.5.1->object-detection==0.1) (2.7.0)\n",
            "Requirement already satisfied: opt-einsum>=2.3.2 in /usr/local/lib/python3.7/dist-packages (from tensorflow>=2.7.0->tf-models-official>=2.5.1->object-detection==0.1) (3.3.0)\n",
            "Requirement already satisfied: gast<0.5.0,>=0.2.1 in /usr/local/lib/python3.7/dist-packages (from tensorflow>=2.7.0->tf-models-official>=2.5.1->object-detection==0.1) (0.4.0)\n",
            "Requirement already satisfied: tensorflow-io-gcs-filesystem>=0.21.0 in /usr/local/lib/python3.7/dist-packages (from tensorflow>=2.7.0->tf-models-official>=2.5.1->object-detection==0.1) (0.22.0)\n",
            "Requirement already satisfied: cached-property in /usr/local/lib/python3.7/dist-packages (from h5py>=2.9.0->tensorflow>=2.7.0->tf-models-official>=2.5.1->object-detection==0.1) (1.5.2)\n",
            "Requirement already satisfied: google-auth-oauthlib<0.5,>=0.4.1 in /usr/local/lib/python3.7/dist-packages (from tensorboard~=2.6->tensorflow>=2.7.0->tf-models-official>=2.5.1->object-detection==0.1) (0.4.6)\n",
            "Requirement already satisfied: markdown>=2.6.8 in /usr/local/lib/python3.7/dist-packages (from tensorboard~=2.6->tensorflow>=2.7.0->tf-models-official>=2.5.1->object-detection==0.1) (3.3.6)\n",
            "Requirement already satisfied: tensorboard-plugin-wit>=1.6.0 in /usr/local/lib/python3.7/dist-packages (from tensorboard~=2.6->tensorflow>=2.7.0->tf-models-official>=2.5.1->object-detection==0.1) (1.8.0)\n",
            "Requirement already satisfied: tensorboard-data-server<0.7.0,>=0.6.0 in /usr/local/lib/python3.7/dist-packages (from tensorboard~=2.6->tensorflow>=2.7.0->tf-models-official>=2.5.1->object-detection==0.1) (0.6.1)\n",
            "Requirement already satisfied: werkzeug>=0.11.15 in /usr/local/lib/python3.7/dist-packages (from tensorboard~=2.6->tensorflow>=2.7.0->tf-models-official>=2.5.1->object-detection==0.1) (1.0.1)\n",
            "Requirement already satisfied: requests-oauthlib>=0.7.0 in /usr/local/lib/python3.7/dist-packages (from google-auth-oauthlib<0.5,>=0.4.1->tensorboard~=2.6->tensorflow>=2.7.0->tf-models-official>=2.5.1->object-detection==0.1) (1.3.0)\n",
            "Requirement already satisfied: importlib-metadata>=4.4 in /usr/local/lib/python3.7/dist-packages (from markdown>=2.6.8->tensorboard~=2.6->tensorflow>=2.7.0->tf-models-official>=2.5.1->object-detection==0.1) (4.8.2)\n",
            "Requirement already satisfied: zipp>=0.5 in /usr/local/lib/python3.7/dist-packages (from importlib-metadata>=4.4->markdown>=2.6.8->tensorboard~=2.6->tensorflow>=2.7.0->tf-models-official>=2.5.1->object-detection==0.1) (3.6.0)\n",
            "Requirement already satisfied: oauthlib>=3.0.0 in /usr/local/lib/python3.7/dist-packages (from requests-oauthlib>=0.7.0->google-auth-oauthlib<0.5,>=0.4.1->tensorboard~=2.6->tensorflow>=2.7.0->tf-models-official>=2.5.1->object-detection==0.1) (3.1.1)\n",
            "Requirement already satisfied: dm-tree~=0.1.1 in /usr/local/lib/python3.7/dist-packages (from tensorflow-model-optimization>=0.4.1->tf-models-official>=2.5.1->object-detection==0.1) (0.1.6)\n",
            "Collecting orjson<4.0\n",
            "  Downloading orjson-3.6.5-cp37-cp37m-manylinux_2_24_x86_64.whl (247 kB)\n",
            "\u001b[K     |████████████████████████████████| 247 kB 51.8 MB/s \n",
            "\u001b[?25hRequirement already satisfied: pydot<2,>=1.2.0 in /usr/local/lib/python3.7/dist-packages (from apache-beam->object-detection==0.1) (1.3.0)\n",
            "Collecting requests<3.0.0dev,>=2.18.0\n",
            "  Downloading requests-2.27.1-py2.py3-none-any.whl (63 kB)\n",
            "\u001b[K     |████████████████████████████████| 63 kB 1.8 MB/s \n",
            "\u001b[?25hRequirement already satisfied: crcmod<2.0,>=1.7 in /usr/local/lib/python3.7/dist-packages (from apache-beam->object-detection==0.1) (1.7)\n",
            "Collecting hdfs<3.0.0,>=2.1.0\n",
            "  Downloading hdfs-2.6.0-py3-none-any.whl (33 kB)\n",
            "Collecting fastavro<2,>=0.21.4\n",
            "  Downloading fastavro-1.4.9-cp37-cp37m-manylinux_2_17_x86_64.manylinux2014_x86_64.whl (2.3 MB)\n",
            "\u001b[K     |████████████████████████████████| 2.3 MB 52.1 MB/s \n",
            "\u001b[?25hCollecting proto-plus<2,>=1.7.1\n",
            "  Downloading proto_plus-1.19.8-py3-none-any.whl (45 kB)\n",
            "\u001b[K     |████████████████████████████████| 45 kB 3.8 MB/s \n",
            "\u001b[?25hRequirement already satisfied: pymongo<4.0.0,>=3.8.0 in /usr/local/lib/python3.7/dist-packages (from apache-beam->object-detection==0.1) (3.12.1)\n",
            "Collecting dill<0.3.2,>=0.3.1.1\n",
            "  Downloading dill-0.3.1.1.tar.gz (151 kB)\n",
            "\u001b[K     |████████████████████████████████| 151 kB 82.6 MB/s \n",
            "\u001b[?25hRequirement already satisfied: pyarrow<7.0.0,>=0.15.1 in /usr/local/lib/python3.7/dist-packages (from apache-beam->object-detection==0.1) (3.0.0)\n",
            "Requirement already satisfied: docopt in /usr/local/lib/python3.7/dist-packages (from hdfs<3.0.0,>=2.1.0->apache-beam->object-detection==0.1) (0.6.2)\n",
            "Collecting protobuf>=3.12.0\n",
            "  Downloading protobuf-3.19.1-cp37-cp37m-manylinux_2_17_x86_64.manylinux2014_x86_64.whl (1.1 MB)\n",
            "\u001b[K     |████████████████████████████████| 1.1 MB 56.8 MB/s \n",
            "\u001b[?25hRequirement already satisfied: charset-normalizer~=2.0.0 in /usr/local/lib/python3.7/dist-packages (from requests<3.0.0dev,>=2.18.0->google-api-core<2dev,>=1.21.0->google-api-python-client>=1.6.7->tf-models-official>=2.5.1->object-detection==0.1) (2.0.9)\n",
            "Requirement already satisfied: kiwisolver>=1.1.0 in /usr/local/lib/python3.7/dist-packages (from lvis->object-detection==0.1) (1.3.2)\n",
            "Requirement already satisfied: opencv-python>=4.1.0.25 in /usr/local/lib/python3.7/dist-packages (from lvis->object-detection==0.1) (4.1.2.30)\n",
            "Requirement already satisfied: cycler>=0.10.0 in /usr/local/lib/python3.7/dist-packages (from lvis->object-detection==0.1) (0.11.0)\n",
            "Requirement already satisfied: text-unidecode>=1.3 in /usr/local/lib/python3.7/dist-packages (from python-slugify->kaggle>=1.3.9->tf-models-official>=2.5.1->object-detection==0.1) (1.3)\n",
            "Requirement already satisfied: tabulate>=0.8.9 in /usr/local/lib/python3.7/dist-packages (from sacrebleu->tf-models-official>=2.5.1->object-detection==0.1) (0.8.9)\n",
            "Requirement already satisfied: regex in /usr/local/lib/python3.7/dist-packages (from sacrebleu->tf-models-official>=2.5.1->object-detection==0.1) (2019.12.20)\n",
            "Collecting colorama\n",
            "  Downloading colorama-0.4.4-py2.py3-none-any.whl (16 kB)\n",
            "Collecting portalocker\n",
            "  Downloading portalocker-2.3.2-py2.py3-none-any.whl (15 kB)\n",
            "Requirement already satisfied: scikit-learn>=0.21.3 in /usr/local/lib/python3.7/dist-packages (from seqeval->tf-models-official>=2.5.1->object-detection==0.1) (1.0.1)\n",
            "Requirement already satisfied: threadpoolctl>=2.0.0 in /usr/local/lib/python3.7/dist-packages (from scikit-learn>=0.21.3->seqeval->tf-models-official>=2.5.1->object-detection==0.1) (3.0.0)\n",
            "Requirement already satisfied: joblib>=0.11 in /usr/local/lib/python3.7/dist-packages (from scikit-learn>=0.21.3->seqeval->tf-models-official>=2.5.1->object-detection==0.1) (1.1.0)\n",
            "Requirement already satisfied: typeguard>=2.7 in /usr/local/lib/python3.7/dist-packages (from tensorflow-addons->tf-models-official>=2.5.1->object-detection==0.1) (2.7.1)\n",
            "Requirement already satisfied: promise in /usr/local/lib/python3.7/dist-packages (from tensorflow-datasets->tf-models-official>=2.5.1->object-detection==0.1) (2.3)\n",
            "Requirement already satisfied: tensorflow-metadata in /usr/local/lib/python3.7/dist-packages (from tensorflow-datasets->tf-models-official>=2.5.1->object-detection==0.1) (1.4.0)\n",
            "Requirement already satisfied: future in /usr/local/lib/python3.7/dist-packages (from tensorflow-datasets->tf-models-official>=2.5.1->object-detection==0.1) (0.16.0)\n",
            "Requirement already satisfied: importlib-resources in /usr/local/lib/python3.7/dist-packages (from tensorflow-datasets->tf-models-official>=2.5.1->object-detection==0.1) (5.4.0)\n",
            "Requirement already satisfied: attrs>=18.1.0 in /usr/local/lib/python3.7/dist-packages (from tensorflow-datasets->tf-models-official>=2.5.1->object-detection==0.1) (21.2.0)\n",
            "Collecting tensorflow-io-gcs-filesystem>=0.21.0\n",
            "  Downloading tensorflow_io_gcs_filesystem-0.23.1-cp37-cp37m-manylinux_2_12_x86_64.manylinux2010_x86_64.whl (2.1 MB)\n",
            "\u001b[K     |████████████████████████████████| 2.1 MB 50.7 MB/s \n",
            "\u001b[?25hBuilding wheels for collected packages: object-detection, py-cpuinfo, dill, avro-python3, seqeval\n",
            "  Building wheel for object-detection (setup.py) ... \u001b[?25l\u001b[?25hdone\n",
            "  Created wheel for object-detection: filename=object_detection-0.1-py3-none-any.whl size=1683460 sha256=b835c27d30e040758476c75b972c99be3b0067f357a01ba50a96985ff4690f0d\n",
            "  Stored in directory: /tmp/pip-ephem-wheel-cache-4tghbssm/wheels/b1/72/7b/1692710e547899b43976fe9d3d8e177a3156c76fbc751bc21e\n",
            "  Building wheel for py-cpuinfo (setup.py) ... \u001b[?25l\u001b[?25hdone\n",
            "  Created wheel for py-cpuinfo: filename=py_cpuinfo-8.0.0-py3-none-any.whl size=22258 sha256=a4098956e9aab84f1f234f32f2292403745d214b36c02fb95aa728cbd2947e9e\n",
            "  Stored in directory: /root/.cache/pip/wheels/d2/f1/1f/041add21dc9c4220157f1bd2bd6afe1f1a49524c3396b94401\n",
            "  Building wheel for dill (setup.py) ... \u001b[?25l\u001b[?25hdone\n",
            "  Created wheel for dill: filename=dill-0.3.1.1-py3-none-any.whl size=78546 sha256=fcb70b334b5318592e6356b3cd8a364d47098d32c0693678a427fcc6f7b69a80\n",
            "  Stored in directory: /root/.cache/pip/wheels/a4/61/fd/c57e374e580aa78a45ed78d5859b3a44436af17e22ca53284f\n",
            "  Building wheel for avro-python3 (setup.py) ... \u001b[?25l\u001b[?25hdone\n",
            "  Created wheel for avro-python3: filename=avro_python3-1.10.2-py3-none-any.whl size=44009 sha256=44e38966ed35f963d83759f37d655e760d02e900cf8ccddaaa30b2d61925ea3c\n",
            "  Stored in directory: /root/.cache/pip/wheels/d6/e5/b1/6b151d9b535ee50aaa6ab27d145a0104b6df02e5636f0376da\n",
            "  Building wheel for seqeval (setup.py) ... \u001b[?25l\u001b[?25hdone\n",
            "  Created wheel for seqeval: filename=seqeval-1.2.2-py3-none-any.whl size=16181 sha256=10f5ca4e7b613d4d218bfe095706e29b612c7b9416e23e3a6f5219b00b60ed07\n",
            "  Stored in directory: /root/.cache/pip/wheels/05/96/ee/7cac4e74f3b19e3158dce26a20a1c86b3533c43ec72a549fd7\n",
            "Successfully built object-detection py-cpuinfo dill avro-python3 seqeval\n",
            "Installing collected packages: requests, protobuf, tensorflow-io-gcs-filesystem, portalocker, dill, colorama, tf-slim, tensorflow-text, tensorflow-model-optimization, tensorflow-addons, seqeval, sentencepiece, sacrebleu, pyyaml, py-cpuinfo, proto-plus, orjson, opencv-python-headless, hdfs, fastavro, tf-models-official, tensorflow-io, lvis, avro-python3, apache-beam, object-detection\n",
            "  Attempting uninstall: requests\n",
            "    Found existing installation: requests 2.23.0\n",
            "    Uninstalling requests-2.23.0:\n",
            "      Successfully uninstalled requests-2.23.0\n",
            "  Attempting uninstall: protobuf\n",
            "    Found existing installation: protobuf 3.17.3\n",
            "    Uninstalling protobuf-3.17.3:\n",
            "      Successfully uninstalled protobuf-3.17.3\n",
            "  Attempting uninstall: tensorflow-io-gcs-filesystem\n",
            "    Found existing installation: tensorflow-io-gcs-filesystem 0.22.0\n",
            "    Uninstalling tensorflow-io-gcs-filesystem-0.22.0:\n",
            "      Successfully uninstalled tensorflow-io-gcs-filesystem-0.22.0\n",
            "  Attempting uninstall: dill\n",
            "    Found existing installation: dill 0.3.4\n",
            "    Uninstalling dill-0.3.4:\n",
            "      Successfully uninstalled dill-0.3.4\n",
            "  Attempting uninstall: pyyaml\n",
            "    Found existing installation: PyYAML 3.13\n",
            "    Uninstalling PyYAML-3.13:\n",
            "      Successfully uninstalled PyYAML-3.13\n",
            "\u001b[31mERROR: pip's dependency resolver does not currently take into account all the packages that are installed. This behaviour is the source of the following dependency conflicts.\n",
            "multiprocess 0.70.12.2 requires dill>=0.3.4, but you have dill 0.3.1.1 which is incompatible.\n",
            "google-colab 1.0.0 requires requests~=2.23.0, but you have requests 2.27.1 which is incompatible.\n",
            "datascience 0.10.6 requires folium==0.2.1, but you have folium 0.8.3 which is incompatible.\u001b[0m\n",
            "Successfully installed apache-beam-2.35.0 avro-python3-1.10.2 colorama-0.4.4 dill-0.3.1.1 fastavro-1.4.9 hdfs-2.6.0 lvis-0.5.3 object-detection-0.1 opencv-python-headless-4.5.5.62 orjson-3.6.5 portalocker-2.3.2 proto-plus-1.19.8 protobuf-3.19.1 py-cpuinfo-8.0.0 pyyaml-6.0 requests-2.27.1 sacrebleu-2.0.0 sentencepiece-0.1.96 seqeval-1.2.2 tensorflow-addons-0.15.0 tensorflow-io-0.23.1 tensorflow-io-gcs-filesystem-0.23.1 tensorflow-model-optimization-0.7.0 tensorflow-text-2.7.3 tf-models-official-2.7.0 tf-slim-1.1.0\n"
          ]
        }
      ]
    },
    {
      "cell_type": "code",
      "source": [
        "os.getcwd()"
      ],
      "metadata": {
        "colab": {
          "base_uri": "https://localhost:8080/",
          "height": 36
        },
        "id": "_Ak40574SF8x",
        "outputId": "0c7348ed-cd63-46e1-b83e-ddec55daf861"
      },
      "execution_count": 13,
      "outputs": [
        {
          "output_type": "execute_result",
          "data": {
            "application/vnd.google.colaboratory.intrinsic+json": {
              "type": "string"
            },
            "text/plain": [
              "'/content/drive/My Drive/Object detection/models/research'"
            ]
          },
          "metadata": {},
          "execution_count": 13
        }
      ]
    },
    {
      "cell_type": "markdown",
      "source": [
        "# Test your Installation"
      ],
      "metadata": {
        "id": "VAV1uhcrSb2b"
      }
    },
    {
      "cell_type": "code",
      "source": [
        "!python object_detection/builders/model_builder_tf2_test.py"
      ],
      "metadata": {
        "colab": {
          "base_uri": "https://localhost:8080/"
        },
        "id": "VO8lWfA1SWPz",
        "outputId": "541244ab-ccee-4763-83d9-3d801557996b"
      },
      "execution_count": 14,
      "outputs": [
        {
          "output_type": "stream",
          "name": "stdout",
          "text": [
            "2022-01-09 10:02:33.194959: E tensorflow/stream_executor/cuda/cuda_driver.cc:271] failed call to cuInit: CUDA_ERROR_NO_DEVICE: no CUDA-capable device is detected\n",
            "Running tests under Python 3.7.12: /usr/bin/python3\n",
            "[ RUN      ] ModelBuilderTF2Test.test_create_center_net_deepmac\n",
            "W0109 10:02:33.723246 140477324355456 model_builder.py:1100] Building experimental DeepMAC meta-arch. Some features may be omitted.\n",
            "INFO:tensorflow:time(__main__.ModelBuilderTF2Test.test_create_center_net_deepmac): 0.85s\n",
            "I0109 10:02:34.054832 140477324355456 test_util.py:2309] time(__main__.ModelBuilderTF2Test.test_create_center_net_deepmac): 0.85s\n",
            "[       OK ] ModelBuilderTF2Test.test_create_center_net_deepmac\n",
            "[ RUN      ] ModelBuilderTF2Test.test_create_center_net_model0 (customize_head_params=True)\n",
            "INFO:tensorflow:time(__main__.ModelBuilderTF2Test.test_create_center_net_model0 (customize_head_params=True)): 0.63s\n",
            "I0109 10:02:34.688694 140477324355456 test_util.py:2309] time(__main__.ModelBuilderTF2Test.test_create_center_net_model0 (customize_head_params=True)): 0.63s\n",
            "[       OK ] ModelBuilderTF2Test.test_create_center_net_model0 (customize_head_params=True)\n",
            "[ RUN      ] ModelBuilderTF2Test.test_create_center_net_model1 (customize_head_params=False)\n",
            "INFO:tensorflow:time(__main__.ModelBuilderTF2Test.test_create_center_net_model1 (customize_head_params=False)): 0.33s\n",
            "I0109 10:02:35.024481 140477324355456 test_util.py:2309] time(__main__.ModelBuilderTF2Test.test_create_center_net_model1 (customize_head_params=False)): 0.33s\n",
            "[       OK ] ModelBuilderTF2Test.test_create_center_net_model1 (customize_head_params=False)\n",
            "[ RUN      ] ModelBuilderTF2Test.test_create_center_net_model_from_keypoints\n",
            "INFO:tensorflow:time(__main__.ModelBuilderTF2Test.test_create_center_net_model_from_keypoints): 0.29s\n",
            "I0109 10:02:35.313402 140477324355456 test_util.py:2309] time(__main__.ModelBuilderTF2Test.test_create_center_net_model_from_keypoints): 0.29s\n",
            "[       OK ] ModelBuilderTF2Test.test_create_center_net_model_from_keypoints\n",
            "[ RUN      ] ModelBuilderTF2Test.test_create_center_net_model_mobilenet\n",
            "INFO:tensorflow:time(__main__.ModelBuilderTF2Test.test_create_center_net_model_mobilenet): 2.53s\n",
            "I0109 10:02:37.843737 140477324355456 test_util.py:2309] time(__main__.ModelBuilderTF2Test.test_create_center_net_model_mobilenet): 2.53s\n",
            "[       OK ] ModelBuilderTF2Test.test_create_center_net_model_mobilenet\n",
            "[ RUN      ] ModelBuilderTF2Test.test_create_experimental_model\n",
            "INFO:tensorflow:time(__main__.ModelBuilderTF2Test.test_create_experimental_model): 0.0s\n",
            "I0109 10:02:37.845022 140477324355456 test_util.py:2309] time(__main__.ModelBuilderTF2Test.test_create_experimental_model): 0.0s\n",
            "[       OK ] ModelBuilderTF2Test.test_create_experimental_model\n",
            "[ RUN      ] ModelBuilderTF2Test.test_create_faster_rcnn_from_config_with_crop_feature0 (True)\n",
            "INFO:tensorflow:time(__main__.ModelBuilderTF2Test.test_create_faster_rcnn_from_config_with_crop_feature0 (True)): 0.03s\n",
            "I0109 10:02:37.877826 140477324355456 test_util.py:2309] time(__main__.ModelBuilderTF2Test.test_create_faster_rcnn_from_config_with_crop_feature0 (True)): 0.03s\n",
            "[       OK ] ModelBuilderTF2Test.test_create_faster_rcnn_from_config_with_crop_feature0 (True)\n",
            "[ RUN      ] ModelBuilderTF2Test.test_create_faster_rcnn_from_config_with_crop_feature1 (False)\n",
            "INFO:tensorflow:time(__main__.ModelBuilderTF2Test.test_create_faster_rcnn_from_config_with_crop_feature1 (False)): 0.02s\n",
            "I0109 10:02:37.896765 140477324355456 test_util.py:2309] time(__main__.ModelBuilderTF2Test.test_create_faster_rcnn_from_config_with_crop_feature1 (False)): 0.02s\n",
            "[       OK ] ModelBuilderTF2Test.test_create_faster_rcnn_from_config_with_crop_feature1 (False)\n",
            "[ RUN      ] ModelBuilderTF2Test.test_create_faster_rcnn_model_from_config_with_example_miner\n",
            "INFO:tensorflow:time(__main__.ModelBuilderTF2Test.test_create_faster_rcnn_model_from_config_with_example_miner): 0.02s\n",
            "I0109 10:02:37.916418 140477324355456 test_util.py:2309] time(__main__.ModelBuilderTF2Test.test_create_faster_rcnn_model_from_config_with_example_miner): 0.02s\n",
            "[       OK ] ModelBuilderTF2Test.test_create_faster_rcnn_model_from_config_with_example_miner\n",
            "[ RUN      ] ModelBuilderTF2Test.test_create_faster_rcnn_models_from_config_faster_rcnn_with_matmul\n",
            "INFO:tensorflow:time(__main__.ModelBuilderTF2Test.test_create_faster_rcnn_models_from_config_faster_rcnn_with_matmul): 0.13s\n",
            "I0109 10:02:38.045879 140477324355456 test_util.py:2309] time(__main__.ModelBuilderTF2Test.test_create_faster_rcnn_models_from_config_faster_rcnn_with_matmul): 0.13s\n",
            "[       OK ] ModelBuilderTF2Test.test_create_faster_rcnn_models_from_config_faster_rcnn_with_matmul\n",
            "[ RUN      ] ModelBuilderTF2Test.test_create_faster_rcnn_models_from_config_faster_rcnn_without_matmul\n",
            "INFO:tensorflow:time(__main__.ModelBuilderTF2Test.test_create_faster_rcnn_models_from_config_faster_rcnn_without_matmul): 0.12s\n",
            "I0109 10:02:38.166625 140477324355456 test_util.py:2309] time(__main__.ModelBuilderTF2Test.test_create_faster_rcnn_models_from_config_faster_rcnn_without_matmul): 0.12s\n",
            "[       OK ] ModelBuilderTF2Test.test_create_faster_rcnn_models_from_config_faster_rcnn_without_matmul\n",
            "[ RUN      ] ModelBuilderTF2Test.test_create_faster_rcnn_models_from_config_mask_rcnn_with_matmul\n",
            "INFO:tensorflow:time(__main__.ModelBuilderTF2Test.test_create_faster_rcnn_models_from_config_mask_rcnn_with_matmul): 0.12s\n",
            "I0109 10:02:38.289338 140477324355456 test_util.py:2309] time(__main__.ModelBuilderTF2Test.test_create_faster_rcnn_models_from_config_mask_rcnn_with_matmul): 0.12s\n",
            "[       OK ] ModelBuilderTF2Test.test_create_faster_rcnn_models_from_config_mask_rcnn_with_matmul\n",
            "[ RUN      ] ModelBuilderTF2Test.test_create_faster_rcnn_models_from_config_mask_rcnn_without_matmul\n",
            "INFO:tensorflow:time(__main__.ModelBuilderTF2Test.test_create_faster_rcnn_models_from_config_mask_rcnn_without_matmul): 0.12s\n",
            "I0109 10:02:38.410962 140477324355456 test_util.py:2309] time(__main__.ModelBuilderTF2Test.test_create_faster_rcnn_models_from_config_mask_rcnn_without_matmul): 0.12s\n",
            "[       OK ] ModelBuilderTF2Test.test_create_faster_rcnn_models_from_config_mask_rcnn_without_matmul\n",
            "[ RUN      ] ModelBuilderTF2Test.test_create_rfcn_model_from_config\n",
            "INFO:tensorflow:time(__main__.ModelBuilderTF2Test.test_create_rfcn_model_from_config): 0.12s\n",
            "I0109 10:02:38.529919 140477324355456 test_util.py:2309] time(__main__.ModelBuilderTF2Test.test_create_rfcn_model_from_config): 0.12s\n",
            "[       OK ] ModelBuilderTF2Test.test_create_rfcn_model_from_config\n",
            "[ RUN      ] ModelBuilderTF2Test.test_create_ssd_fpn_model_from_config\n",
            "INFO:tensorflow:time(__main__.ModelBuilderTF2Test.test_create_ssd_fpn_model_from_config): 0.03s\n",
            "I0109 10:02:38.564541 140477324355456 test_util.py:2309] time(__main__.ModelBuilderTF2Test.test_create_ssd_fpn_model_from_config): 0.03s\n",
            "[       OK ] ModelBuilderTF2Test.test_create_ssd_fpn_model_from_config\n",
            "[ RUN      ] ModelBuilderTF2Test.test_create_ssd_models_from_config\n",
            "I0109 10:02:38.797319 140477324355456 ssd_efficientnet_bifpn_feature_extractor.py:143] EfficientDet EfficientNet backbone version: efficientnet-b0\n",
            "I0109 10:02:38.797528 140477324355456 ssd_efficientnet_bifpn_feature_extractor.py:144] EfficientDet BiFPN num filters: 64\n",
            "I0109 10:02:38.797634 140477324355456 ssd_efficientnet_bifpn_feature_extractor.py:146] EfficientDet BiFPN num iterations: 3\n",
            "I0109 10:02:38.800547 140477324355456 efficientnet_model.py:147] round_filter input=32 output=32\n",
            "I0109 10:02:38.820287 140477324355456 efficientnet_model.py:147] round_filter input=32 output=32\n",
            "I0109 10:02:38.820491 140477324355456 efficientnet_model.py:147] round_filter input=16 output=16\n",
            "I0109 10:02:38.888861 140477324355456 efficientnet_model.py:147] round_filter input=16 output=16\n",
            "I0109 10:02:38.889065 140477324355456 efficientnet_model.py:147] round_filter input=24 output=24\n",
            "I0109 10:02:39.074101 140477324355456 efficientnet_model.py:147] round_filter input=24 output=24\n",
            "I0109 10:02:39.074316 140477324355456 efficientnet_model.py:147] round_filter input=40 output=40\n",
            "I0109 10:02:39.252377 140477324355456 efficientnet_model.py:147] round_filter input=40 output=40\n",
            "I0109 10:02:39.252621 140477324355456 efficientnet_model.py:147] round_filter input=80 output=80\n",
            "I0109 10:02:39.699140 140477324355456 efficientnet_model.py:147] round_filter input=80 output=80\n",
            "I0109 10:02:39.699341 140477324355456 efficientnet_model.py:147] round_filter input=112 output=112\n",
            "I0109 10:02:40.007166 140477324355456 efficientnet_model.py:147] round_filter input=112 output=112\n",
            "I0109 10:02:40.007370 140477324355456 efficientnet_model.py:147] round_filter input=192 output=192\n",
            "I0109 10:02:40.424512 140477324355456 efficientnet_model.py:147] round_filter input=192 output=192\n",
            "I0109 10:02:40.424738 140477324355456 efficientnet_model.py:147] round_filter input=320 output=320\n",
            "I0109 10:02:40.531558 140477324355456 efficientnet_model.py:147] round_filter input=1280 output=1280\n",
            "I0109 10:02:40.600278 140477324355456 efficientnet_model.py:457] Building model efficientnet with params ModelConfig(width_coefficient=1.0, depth_coefficient=1.0, resolution=224, dropout_rate=0.2, blocks=(BlockConfig(input_filters=32, output_filters=16, kernel_size=3, num_repeat=1, expand_ratio=1, strides=(1, 1), se_ratio=0.25, id_skip=True, fused_conv=False, conv_type='depthwise'), BlockConfig(input_filters=16, output_filters=24, kernel_size=3, num_repeat=2, expand_ratio=6, strides=(2, 2), se_ratio=0.25, id_skip=True, fused_conv=False, conv_type='depthwise'), BlockConfig(input_filters=24, output_filters=40, kernel_size=5, num_repeat=2, expand_ratio=6, strides=(2, 2), se_ratio=0.25, id_skip=True, fused_conv=False, conv_type='depthwise'), BlockConfig(input_filters=40, output_filters=80, kernel_size=3, num_repeat=3, expand_ratio=6, strides=(2, 2), se_ratio=0.25, id_skip=True, fused_conv=False, conv_type='depthwise'), BlockConfig(input_filters=80, output_filters=112, kernel_size=5, num_repeat=3, expand_ratio=6, strides=(1, 1), se_ratio=0.25, id_skip=True, fused_conv=False, conv_type='depthwise'), BlockConfig(input_filters=112, output_filters=192, kernel_size=5, num_repeat=4, expand_ratio=6, strides=(2, 2), se_ratio=0.25, id_skip=True, fused_conv=False, conv_type='depthwise'), BlockConfig(input_filters=192, output_filters=320, kernel_size=3, num_repeat=1, expand_ratio=6, strides=(1, 1), se_ratio=0.25, id_skip=True, fused_conv=False, conv_type='depthwise')), stem_base_filters=32, top_base_filters=1280, activation='simple_swish', batch_norm='default', bn_momentum=0.99, bn_epsilon=0.001, weight_decay=5e-06, drop_connect_rate=0.2, depth_divisor=8, min_depth=None, use_se=True, input_channels=3, num_classes=1000, model_name='efficientnet', rescale_input=False, data_format='channels_last', dtype='float32')\n",
            "I0109 10:02:40.661734 140477324355456 ssd_efficientnet_bifpn_feature_extractor.py:143] EfficientDet EfficientNet backbone version: efficientnet-b1\n",
            "I0109 10:02:40.661933 140477324355456 ssd_efficientnet_bifpn_feature_extractor.py:144] EfficientDet BiFPN num filters: 88\n",
            "I0109 10:02:40.661998 140477324355456 ssd_efficientnet_bifpn_feature_extractor.py:146] EfficientDet BiFPN num iterations: 4\n",
            "I0109 10:02:40.663949 140477324355456 efficientnet_model.py:147] round_filter input=32 output=32\n",
            "I0109 10:02:40.681349 140477324355456 efficientnet_model.py:147] round_filter input=32 output=32\n",
            "I0109 10:02:40.681511 140477324355456 efficientnet_model.py:147] round_filter input=16 output=16\n",
            "I0109 10:02:40.823307 140477324355456 efficientnet_model.py:147] round_filter input=16 output=16\n",
            "I0109 10:02:40.823557 140477324355456 efficientnet_model.py:147] round_filter input=24 output=24\n",
            "I0109 10:02:41.094794 140477324355456 efficientnet_model.py:147] round_filter input=24 output=24\n",
            "I0109 10:02:41.095022 140477324355456 efficientnet_model.py:147] round_filter input=40 output=40\n",
            "I0109 10:02:41.359571 140477324355456 efficientnet_model.py:147] round_filter input=40 output=40\n",
            "I0109 10:02:41.359793 140477324355456 efficientnet_model.py:147] round_filter input=80 output=80\n",
            "I0109 10:02:41.721396 140477324355456 efficientnet_model.py:147] round_filter input=80 output=80\n",
            "I0109 10:02:41.721615 140477324355456 efficientnet_model.py:147] round_filter input=112 output=112\n",
            "I0109 10:02:42.128197 140477324355456 efficientnet_model.py:147] round_filter input=112 output=112\n",
            "I0109 10:02:42.128417 140477324355456 efficientnet_model.py:147] round_filter input=192 output=192\n",
            "I0109 10:02:42.646937 140477324355456 efficientnet_model.py:147] round_filter input=192 output=192\n",
            "I0109 10:02:42.647141 140477324355456 efficientnet_model.py:147] round_filter input=320 output=320\n",
            "I0109 10:02:42.909364 140477324355456 efficientnet_model.py:147] round_filter input=1280 output=1280\n",
            "I0109 10:02:42.991535 140477324355456 efficientnet_model.py:457] Building model efficientnet with params ModelConfig(width_coefficient=1.0, depth_coefficient=1.1, resolution=240, dropout_rate=0.2, blocks=(BlockConfig(input_filters=32, output_filters=16, kernel_size=3, num_repeat=1, expand_ratio=1, strides=(1, 1), se_ratio=0.25, id_skip=True, fused_conv=False, conv_type='depthwise'), BlockConfig(input_filters=16, output_filters=24, kernel_size=3, num_repeat=2, expand_ratio=6, strides=(2, 2), se_ratio=0.25, id_skip=True, fused_conv=False, conv_type='depthwise'), BlockConfig(input_filters=24, output_filters=40, kernel_size=5, num_repeat=2, expand_ratio=6, strides=(2, 2), se_ratio=0.25, id_skip=True, fused_conv=False, conv_type='depthwise'), BlockConfig(input_filters=40, output_filters=80, kernel_size=3, num_repeat=3, expand_ratio=6, strides=(2, 2), se_ratio=0.25, id_skip=True, fused_conv=False, conv_type='depthwise'), BlockConfig(input_filters=80, output_filters=112, kernel_size=5, num_repeat=3, expand_ratio=6, strides=(1, 1), se_ratio=0.25, id_skip=True, fused_conv=False, conv_type='depthwise'), BlockConfig(input_filters=112, output_filters=192, kernel_size=5, num_repeat=4, expand_ratio=6, strides=(2, 2), se_ratio=0.25, id_skip=True, fused_conv=False, conv_type='depthwise'), BlockConfig(input_filters=192, output_filters=320, kernel_size=3, num_repeat=1, expand_ratio=6, strides=(1, 1), se_ratio=0.25, id_skip=True, fused_conv=False, conv_type='depthwise')), stem_base_filters=32, top_base_filters=1280, activation='simple_swish', batch_norm='default', bn_momentum=0.99, bn_epsilon=0.001, weight_decay=5e-06, drop_connect_rate=0.2, depth_divisor=8, min_depth=None, use_se=True, input_channels=3, num_classes=1000, model_name='efficientnet', rescale_input=False, data_format='channels_last', dtype='float32')\n",
            "I0109 10:02:43.071851 140477324355456 ssd_efficientnet_bifpn_feature_extractor.py:143] EfficientDet EfficientNet backbone version: efficientnet-b2\n",
            "I0109 10:02:43.072049 140477324355456 ssd_efficientnet_bifpn_feature_extractor.py:144] EfficientDet BiFPN num filters: 112\n",
            "I0109 10:02:43.072114 140477324355456 ssd_efficientnet_bifpn_feature_extractor.py:146] EfficientDet BiFPN num iterations: 5\n",
            "I0109 10:02:43.074043 140477324355456 efficientnet_model.py:147] round_filter input=32 output=32\n",
            "I0109 10:02:43.091836 140477324355456 efficientnet_model.py:147] round_filter input=32 output=32\n",
            "I0109 10:02:43.092034 140477324355456 efficientnet_model.py:147] round_filter input=16 output=16\n",
            "I0109 10:02:43.235777 140477324355456 efficientnet_model.py:147] round_filter input=16 output=16\n",
            "I0109 10:02:43.235983 140477324355456 efficientnet_model.py:147] round_filter input=24 output=24\n",
            "I0109 10:02:43.493171 140477324355456 efficientnet_model.py:147] round_filter input=24 output=24\n",
            "I0109 10:02:43.493381 140477324355456 efficientnet_model.py:147] round_filter input=40 output=48\n",
            "I0109 10:02:43.755253 140477324355456 efficientnet_model.py:147] round_filter input=40 output=48\n",
            "I0109 10:02:43.755449 140477324355456 efficientnet_model.py:147] round_filter input=80 output=88\n",
            "I0109 10:02:44.132180 140477324355456 efficientnet_model.py:147] round_filter input=80 output=88\n",
            "I0109 10:02:44.132390 140477324355456 efficientnet_model.py:147] round_filter input=112 output=120\n",
            "I0109 10:02:44.517317 140477324355456 efficientnet_model.py:147] round_filter input=112 output=120\n",
            "I0109 10:02:44.517549 140477324355456 efficientnet_model.py:147] round_filter input=192 output=208\n",
            "I0109 10:02:45.285283 140477324355456 efficientnet_model.py:147] round_filter input=192 output=208\n",
            "I0109 10:02:45.285507 140477324355456 efficientnet_model.py:147] round_filter input=320 output=352\n",
            "I0109 10:02:45.538011 140477324355456 efficientnet_model.py:147] round_filter input=1280 output=1408\n",
            "I0109 10:02:45.623823 140477324355456 efficientnet_model.py:457] Building model efficientnet with params ModelConfig(width_coefficient=1.1, depth_coefficient=1.2, resolution=260, dropout_rate=0.3, blocks=(BlockConfig(input_filters=32, output_filters=16, kernel_size=3, num_repeat=1, expand_ratio=1, strides=(1, 1), se_ratio=0.25, id_skip=True, fused_conv=False, conv_type='depthwise'), BlockConfig(input_filters=16, output_filters=24, kernel_size=3, num_repeat=2, expand_ratio=6, strides=(2, 2), se_ratio=0.25, id_skip=True, fused_conv=False, conv_type='depthwise'), BlockConfig(input_filters=24, output_filters=40, kernel_size=5, num_repeat=2, expand_ratio=6, strides=(2, 2), se_ratio=0.25, id_skip=True, fused_conv=False, conv_type='depthwise'), BlockConfig(input_filters=40, output_filters=80, kernel_size=3, num_repeat=3, expand_ratio=6, strides=(2, 2), se_ratio=0.25, id_skip=True, fused_conv=False, conv_type='depthwise'), BlockConfig(input_filters=80, output_filters=112, kernel_size=5, num_repeat=3, expand_ratio=6, strides=(1, 1), se_ratio=0.25, id_skip=True, fused_conv=False, conv_type='depthwise'), BlockConfig(input_filters=112, output_filters=192, kernel_size=5, num_repeat=4, expand_ratio=6, strides=(2, 2), se_ratio=0.25, id_skip=True, fused_conv=False, conv_type='depthwise'), BlockConfig(input_filters=192, output_filters=320, kernel_size=3, num_repeat=1, expand_ratio=6, strides=(1, 1), se_ratio=0.25, id_skip=True, fused_conv=False, conv_type='depthwise')), stem_base_filters=32, top_base_filters=1280, activation='simple_swish', batch_norm='default', bn_momentum=0.99, bn_epsilon=0.001, weight_decay=5e-06, drop_connect_rate=0.2, depth_divisor=8, min_depth=None, use_se=True, input_channels=3, num_classes=1000, model_name='efficientnet', rescale_input=False, data_format='channels_last', dtype='float32')\n",
            "I0109 10:02:45.698350 140477324355456 ssd_efficientnet_bifpn_feature_extractor.py:143] EfficientDet EfficientNet backbone version: efficientnet-b3\n",
            "I0109 10:02:45.698538 140477324355456 ssd_efficientnet_bifpn_feature_extractor.py:144] EfficientDet BiFPN num filters: 160\n",
            "I0109 10:02:45.698617 140477324355456 ssd_efficientnet_bifpn_feature_extractor.py:146] EfficientDet BiFPN num iterations: 6\n",
            "I0109 10:02:45.700511 140477324355456 efficientnet_model.py:147] round_filter input=32 output=40\n",
            "I0109 10:02:45.718425 140477324355456 efficientnet_model.py:147] round_filter input=32 output=40\n",
            "I0109 10:02:45.718610 140477324355456 efficientnet_model.py:147] round_filter input=16 output=24\n",
            "I0109 10:02:45.866681 140477324355456 efficientnet_model.py:147] round_filter input=16 output=24\n",
            "I0109 10:02:45.866875 140477324355456 efficientnet_model.py:147] round_filter input=24 output=32\n",
            "I0109 10:02:46.165117 140477324355456 efficientnet_model.py:147] round_filter input=24 output=32\n",
            "I0109 10:02:46.165320 140477324355456 efficientnet_model.py:147] round_filter input=40 output=48\n",
            "I0109 10:02:46.450288 140477324355456 efficientnet_model.py:147] round_filter input=40 output=48\n",
            "I0109 10:02:46.450555 140477324355456 efficientnet_model.py:147] round_filter input=80 output=96\n",
            "I0109 10:02:46.951237 140477324355456 efficientnet_model.py:147] round_filter input=80 output=96\n",
            "I0109 10:02:46.951451 140477324355456 efficientnet_model.py:147] round_filter input=112 output=136\n",
            "I0109 10:02:47.486107 140477324355456 efficientnet_model.py:147] round_filter input=112 output=136\n",
            "I0109 10:02:47.486311 140477324355456 efficientnet_model.py:147] round_filter input=192 output=232\n",
            "I0109 10:02:48.202106 140477324355456 efficientnet_model.py:147] round_filter input=192 output=232\n",
            "I0109 10:02:48.202313 140477324355456 efficientnet_model.py:147] round_filter input=320 output=384\n",
            "I0109 10:02:48.527885 140477324355456 efficientnet_model.py:147] round_filter input=1280 output=1536\n",
            "I0109 10:02:48.609566 140477324355456 efficientnet_model.py:457] Building model efficientnet with params ModelConfig(width_coefficient=1.2, depth_coefficient=1.4, resolution=300, dropout_rate=0.3, blocks=(BlockConfig(input_filters=32, output_filters=16, kernel_size=3, num_repeat=1, expand_ratio=1, strides=(1, 1), se_ratio=0.25, id_skip=True, fused_conv=False, conv_type='depthwise'), BlockConfig(input_filters=16, output_filters=24, kernel_size=3, num_repeat=2, expand_ratio=6, strides=(2, 2), se_ratio=0.25, id_skip=True, fused_conv=False, conv_type='depthwise'), BlockConfig(input_filters=24, output_filters=40, kernel_size=5, num_repeat=2, expand_ratio=6, strides=(2, 2), se_ratio=0.25, id_skip=True, fused_conv=False, conv_type='depthwise'), BlockConfig(input_filters=40, output_filters=80, kernel_size=3, num_repeat=3, expand_ratio=6, strides=(2, 2), se_ratio=0.25, id_skip=True, fused_conv=False, conv_type='depthwise'), BlockConfig(input_filters=80, output_filters=112, kernel_size=5, num_repeat=3, expand_ratio=6, strides=(1, 1), se_ratio=0.25, id_skip=True, fused_conv=False, conv_type='depthwise'), BlockConfig(input_filters=112, output_filters=192, kernel_size=5, num_repeat=4, expand_ratio=6, strides=(2, 2), se_ratio=0.25, id_skip=True, fused_conv=False, conv_type='depthwise'), BlockConfig(input_filters=192, output_filters=320, kernel_size=3, num_repeat=1, expand_ratio=6, strides=(1, 1), se_ratio=0.25, id_skip=True, fused_conv=False, conv_type='depthwise')), stem_base_filters=32, top_base_filters=1280, activation='simple_swish', batch_norm='default', bn_momentum=0.99, bn_epsilon=0.001, weight_decay=5e-06, drop_connect_rate=0.2, depth_divisor=8, min_depth=None, use_se=True, input_channels=3, num_classes=1000, model_name='efficientnet', rescale_input=False, data_format='channels_last', dtype='float32')\n",
            "I0109 10:02:48.693629 140477324355456 ssd_efficientnet_bifpn_feature_extractor.py:143] EfficientDet EfficientNet backbone version: efficientnet-b4\n",
            "I0109 10:02:48.693824 140477324355456 ssd_efficientnet_bifpn_feature_extractor.py:144] EfficientDet BiFPN num filters: 224\n",
            "I0109 10:02:48.693892 140477324355456 ssd_efficientnet_bifpn_feature_extractor.py:146] EfficientDet BiFPN num iterations: 7\n",
            "I0109 10:02:48.695909 140477324355456 efficientnet_model.py:147] round_filter input=32 output=48\n",
            "I0109 10:02:48.714279 140477324355456 efficientnet_model.py:147] round_filter input=32 output=48\n",
            "I0109 10:02:48.714480 140477324355456 efficientnet_model.py:147] round_filter input=16 output=24\n",
            "I0109 10:02:48.857955 140477324355456 efficientnet_model.py:147] round_filter input=16 output=24\n",
            "I0109 10:02:48.858153 140477324355456 efficientnet_model.py:147] round_filter input=24 output=32\n",
            "I0109 10:02:49.245565 140477324355456 efficientnet_model.py:147] round_filter input=24 output=32\n",
            "I0109 10:02:49.245790 140477324355456 efficientnet_model.py:147] round_filter input=40 output=56\n",
            "I0109 10:02:49.632234 140477324355456 efficientnet_model.py:147] round_filter input=40 output=56\n",
            "I0109 10:02:49.632437 140477324355456 efficientnet_model.py:147] round_filter input=80 output=112\n",
            "I0109 10:02:50.260647 140477324355456 efficientnet_model.py:147] round_filter input=80 output=112\n",
            "I0109 10:02:50.260855 140477324355456 efficientnet_model.py:147] round_filter input=112 output=160\n",
            "I0109 10:02:50.884263 140477324355456 efficientnet_model.py:147] round_filter input=112 output=160\n",
            "I0109 10:02:50.884484 140477324355456 efficientnet_model.py:147] round_filter input=192 output=272\n",
            "I0109 10:02:51.859707 140477324355456 efficientnet_model.py:147] round_filter input=192 output=272\n",
            "I0109 10:02:51.859923 140477324355456 efficientnet_model.py:147] round_filter input=320 output=448\n",
            "I0109 10:02:52.444756 140477324355456 efficientnet_model.py:147] round_filter input=1280 output=1792\n",
            "I0109 10:02:52.525616 140477324355456 efficientnet_model.py:457] Building model efficientnet with params ModelConfig(width_coefficient=1.4, depth_coefficient=1.8, resolution=380, dropout_rate=0.4, blocks=(BlockConfig(input_filters=32, output_filters=16, kernel_size=3, num_repeat=1, expand_ratio=1, strides=(1, 1), se_ratio=0.25, id_skip=True, fused_conv=False, conv_type='depthwise'), BlockConfig(input_filters=16, output_filters=24, kernel_size=3, num_repeat=2, expand_ratio=6, strides=(2, 2), se_ratio=0.25, id_skip=True, fused_conv=False, conv_type='depthwise'), BlockConfig(input_filters=24, output_filters=40, kernel_size=5, num_repeat=2, expand_ratio=6, strides=(2, 2), se_ratio=0.25, id_skip=True, fused_conv=False, conv_type='depthwise'), BlockConfig(input_filters=40, output_filters=80, kernel_size=3, num_repeat=3, expand_ratio=6, strides=(2, 2), se_ratio=0.25, id_skip=True, fused_conv=False, conv_type='depthwise'), BlockConfig(input_filters=80, output_filters=112, kernel_size=5, num_repeat=3, expand_ratio=6, strides=(1, 1), se_ratio=0.25, id_skip=True, fused_conv=False, conv_type='depthwise'), BlockConfig(input_filters=112, output_filters=192, kernel_size=5, num_repeat=4, expand_ratio=6, strides=(2, 2), se_ratio=0.25, id_skip=True, fused_conv=False, conv_type='depthwise'), BlockConfig(input_filters=192, output_filters=320, kernel_size=3, num_repeat=1, expand_ratio=6, strides=(1, 1), se_ratio=0.25, id_skip=True, fused_conv=False, conv_type='depthwise')), stem_base_filters=32, top_base_filters=1280, activation='simple_swish', batch_norm='default', bn_momentum=0.99, bn_epsilon=0.001, weight_decay=5e-06, drop_connect_rate=0.2, depth_divisor=8, min_depth=None, use_se=True, input_channels=3, num_classes=1000, model_name='efficientnet', rescale_input=False, data_format='channels_last', dtype='float32')\n",
            "I0109 10:02:52.619105 140477324355456 ssd_efficientnet_bifpn_feature_extractor.py:143] EfficientDet EfficientNet backbone version: efficientnet-b5\n",
            "I0109 10:02:52.619316 140477324355456 ssd_efficientnet_bifpn_feature_extractor.py:144] EfficientDet BiFPN num filters: 288\n",
            "I0109 10:02:52.619410 140477324355456 ssd_efficientnet_bifpn_feature_extractor.py:146] EfficientDet BiFPN num iterations: 7\n",
            "I0109 10:02:52.621383 140477324355456 efficientnet_model.py:147] round_filter input=32 output=48\n",
            "I0109 10:02:52.639124 140477324355456 efficientnet_model.py:147] round_filter input=32 output=48\n",
            "I0109 10:02:52.639333 140477324355456 efficientnet_model.py:147] round_filter input=16 output=24\n",
            "I0109 10:02:52.856145 140477324355456 efficientnet_model.py:147] round_filter input=16 output=24\n",
            "I0109 10:02:52.856368 140477324355456 efficientnet_model.py:147] round_filter input=24 output=40\n",
            "I0109 10:02:53.322928 140477324355456 efficientnet_model.py:147] round_filter input=24 output=40\n",
            "I0109 10:02:53.323140 140477324355456 efficientnet_model.py:147] round_filter input=40 output=64\n",
            "I0109 10:02:53.783213 140477324355456 efficientnet_model.py:147] round_filter input=40 output=64\n",
            "I0109 10:02:53.783431 140477324355456 efficientnet_model.py:147] round_filter input=80 output=128\n",
            "I0109 10:02:54.456637 140477324355456 efficientnet_model.py:147] round_filter input=80 output=128\n",
            "I0109 10:02:54.456834 140477324355456 efficientnet_model.py:147] round_filter input=112 output=176\n",
            "I0109 10:02:55.186635 140477324355456 efficientnet_model.py:147] round_filter input=112 output=176\n",
            "I0109 10:02:55.186836 140477324355456 efficientnet_model.py:147] round_filter input=192 output=304\n",
            "I0109 10:02:56.328866 140477324355456 efficientnet_model.py:147] round_filter input=192 output=304\n",
            "I0109 10:02:56.329077 140477324355456 efficientnet_model.py:147] round_filter input=320 output=512\n",
            "I0109 10:02:56.869167 140477324355456 efficientnet_model.py:147] round_filter input=1280 output=2048\n",
            "I0109 10:02:56.964320 140477324355456 efficientnet_model.py:457] Building model efficientnet with params ModelConfig(width_coefficient=1.6, depth_coefficient=2.2, resolution=456, dropout_rate=0.4, blocks=(BlockConfig(input_filters=32, output_filters=16, kernel_size=3, num_repeat=1, expand_ratio=1, strides=(1, 1), se_ratio=0.25, id_skip=True, fused_conv=False, conv_type='depthwise'), BlockConfig(input_filters=16, output_filters=24, kernel_size=3, num_repeat=2, expand_ratio=6, strides=(2, 2), se_ratio=0.25, id_skip=True, fused_conv=False, conv_type='depthwise'), BlockConfig(input_filters=24, output_filters=40, kernel_size=5, num_repeat=2, expand_ratio=6, strides=(2, 2), se_ratio=0.25, id_skip=True, fused_conv=False, conv_type='depthwise'), BlockConfig(input_filters=40, output_filters=80, kernel_size=3, num_repeat=3, expand_ratio=6, strides=(2, 2), se_ratio=0.25, id_skip=True, fused_conv=False, conv_type='depthwise'), BlockConfig(input_filters=80, output_filters=112, kernel_size=5, num_repeat=3, expand_ratio=6, strides=(1, 1), se_ratio=0.25, id_skip=True, fused_conv=False, conv_type='depthwise'), BlockConfig(input_filters=112, output_filters=192, kernel_size=5, num_repeat=4, expand_ratio=6, strides=(2, 2), se_ratio=0.25, id_skip=True, fused_conv=False, conv_type='depthwise'), BlockConfig(input_filters=192, output_filters=320, kernel_size=3, num_repeat=1, expand_ratio=6, strides=(1, 1), se_ratio=0.25, id_skip=True, fused_conv=False, conv_type='depthwise')), stem_base_filters=32, top_base_filters=1280, activation='simple_swish', batch_norm='default', bn_momentum=0.99, bn_epsilon=0.001, weight_decay=5e-06, drop_connect_rate=0.2, depth_divisor=8, min_depth=None, use_se=True, input_channels=3, num_classes=1000, model_name='efficientnet', rescale_input=False, data_format='channels_last', dtype='float32')\n",
            "I0109 10:02:57.074965 140477324355456 ssd_efficientnet_bifpn_feature_extractor.py:143] EfficientDet EfficientNet backbone version: efficientnet-b6\n",
            "I0109 10:02:57.075194 140477324355456 ssd_efficientnet_bifpn_feature_extractor.py:144] EfficientDet BiFPN num filters: 384\n",
            "I0109 10:02:57.075301 140477324355456 ssd_efficientnet_bifpn_feature_extractor.py:146] EfficientDet BiFPN num iterations: 8\n",
            "I0109 10:02:57.077522 140477324355456 efficientnet_model.py:147] round_filter input=32 output=56\n",
            "I0109 10:02:57.096694 140477324355456 efficientnet_model.py:147] round_filter input=32 output=56\n",
            "I0109 10:02:57.096898 140477324355456 efficientnet_model.py:147] round_filter input=16 output=32\n",
            "I0109 10:02:57.346242 140477324355456 efficientnet_model.py:147] round_filter input=16 output=32\n",
            "I0109 10:02:57.346461 140477324355456 efficientnet_model.py:147] round_filter input=24 output=40\n",
            "I0109 10:02:57.910500 140477324355456 efficientnet_model.py:147] round_filter input=24 output=40\n",
            "I0109 10:02:57.910713 140477324355456 efficientnet_model.py:147] round_filter input=40 output=72\n",
            "I0109 10:02:58.492337 140477324355456 efficientnet_model.py:147] round_filter input=40 output=72\n",
            "I0109 10:02:58.492556 140477324355456 efficientnet_model.py:147] round_filter input=80 output=144\n",
            "I0109 10:02:59.296367 140477324355456 efficientnet_model.py:147] round_filter input=80 output=144\n",
            "I0109 10:02:59.296593 140477324355456 efficientnet_model.py:147] round_filter input=112 output=200\n",
            "I0109 10:03:00.454138 140477324355456 efficientnet_model.py:147] round_filter input=112 output=200\n",
            "I0109 10:03:00.454359 140477324355456 efficientnet_model.py:147] round_filter input=192 output=344\n",
            "I0109 10:03:01.996292 140477324355456 efficientnet_model.py:147] round_filter input=192 output=344\n",
            "I0109 10:03:01.996502 140477324355456 efficientnet_model.py:147] round_filter input=320 output=576\n",
            "I0109 10:03:02.596020 140477324355456 efficientnet_model.py:147] round_filter input=1280 output=2304\n",
            "I0109 10:03:02.703341 140477324355456 efficientnet_model.py:457] Building model efficientnet with params ModelConfig(width_coefficient=1.8, depth_coefficient=2.6, resolution=528, dropout_rate=0.5, blocks=(BlockConfig(input_filters=32, output_filters=16, kernel_size=3, num_repeat=1, expand_ratio=1, strides=(1, 1), se_ratio=0.25, id_skip=True, fused_conv=False, conv_type='depthwise'), BlockConfig(input_filters=16, output_filters=24, kernel_size=3, num_repeat=2, expand_ratio=6, strides=(2, 2), se_ratio=0.25, id_skip=True, fused_conv=False, conv_type='depthwise'), BlockConfig(input_filters=24, output_filters=40, kernel_size=5, num_repeat=2, expand_ratio=6, strides=(2, 2), se_ratio=0.25, id_skip=True, fused_conv=False, conv_type='depthwise'), BlockConfig(input_filters=40, output_filters=80, kernel_size=3, num_repeat=3, expand_ratio=6, strides=(2, 2), se_ratio=0.25, id_skip=True, fused_conv=False, conv_type='depthwise'), BlockConfig(input_filters=80, output_filters=112, kernel_size=5, num_repeat=3, expand_ratio=6, strides=(1, 1), se_ratio=0.25, id_skip=True, fused_conv=False, conv_type='depthwise'), BlockConfig(input_filters=112, output_filters=192, kernel_size=5, num_repeat=4, expand_ratio=6, strides=(2, 2), se_ratio=0.25, id_skip=True, fused_conv=False, conv_type='depthwise'), BlockConfig(input_filters=192, output_filters=320, kernel_size=3, num_repeat=1, expand_ratio=6, strides=(1, 1), se_ratio=0.25, id_skip=True, fused_conv=False, conv_type='depthwise')), stem_base_filters=32, top_base_filters=1280, activation='simple_swish', batch_norm='default', bn_momentum=0.99, bn_epsilon=0.001, weight_decay=5e-06, drop_connect_rate=0.2, depth_divisor=8, min_depth=None, use_se=True, input_channels=3, num_classes=1000, model_name='efficientnet', rescale_input=False, data_format='channels_last', dtype='float32')\n",
            "I0109 10:03:02.831185 140477324355456 ssd_efficientnet_bifpn_feature_extractor.py:143] EfficientDet EfficientNet backbone version: efficientnet-b7\n",
            "I0109 10:03:02.831487 140477324355456 ssd_efficientnet_bifpn_feature_extractor.py:144] EfficientDet BiFPN num filters: 384\n",
            "I0109 10:03:02.831615 140477324355456 ssd_efficientnet_bifpn_feature_extractor.py:146] EfficientDet BiFPN num iterations: 8\n",
            "I0109 10:03:02.835222 140477324355456 efficientnet_model.py:147] round_filter input=32 output=64\n",
            "I0109 10:03:02.856029 140477324355456 efficientnet_model.py:147] round_filter input=32 output=64\n",
            "I0109 10:03:02.856242 140477324355456 efficientnet_model.py:147] round_filter input=16 output=32\n",
            "I0109 10:03:03.150964 140477324355456 efficientnet_model.py:147] round_filter input=16 output=32\n",
            "I0109 10:03:03.151186 140477324355456 efficientnet_model.py:147] round_filter input=24 output=48\n",
            "I0109 10:03:03.808234 140477324355456 efficientnet_model.py:147] round_filter input=24 output=48\n",
            "I0109 10:03:03.808458 140477324355456 efficientnet_model.py:147] round_filter input=40 output=80\n",
            "I0109 10:03:04.463671 140477324355456 efficientnet_model.py:147] round_filter input=40 output=80\n",
            "I0109 10:03:04.463868 140477324355456 efficientnet_model.py:147] round_filter input=80 output=160\n",
            "I0109 10:03:05.471225 140477324355456 efficientnet_model.py:147] round_filter input=80 output=160\n",
            "I0109 10:03:05.471425 140477324355456 efficientnet_model.py:147] round_filter input=112 output=224\n",
            "I0109 10:03:06.572141 140477324355456 efficientnet_model.py:147] round_filter input=112 output=224\n",
            "I0109 10:03:06.572359 140477324355456 efficientnet_model.py:147] round_filter input=192 output=384\n",
            "I0109 10:03:08.896641 140477324355456 efficientnet_model.py:147] round_filter input=192 output=384\n",
            "I0109 10:03:08.896865 140477324355456 efficientnet_model.py:147] round_filter input=320 output=640\n",
            "I0109 10:03:09.825376 140477324355456 efficientnet_model.py:147] round_filter input=1280 output=2560\n",
            "I0109 10:03:09.926380 140477324355456 efficientnet_model.py:457] Building model efficientnet with params ModelConfig(width_coefficient=2.0, depth_coefficient=3.1, resolution=600, dropout_rate=0.5, blocks=(BlockConfig(input_filters=32, output_filters=16, kernel_size=3, num_repeat=1, expand_ratio=1, strides=(1, 1), se_ratio=0.25, id_skip=True, fused_conv=False, conv_type='depthwise'), BlockConfig(input_filters=16, output_filters=24, kernel_size=3, num_repeat=2, expand_ratio=6, strides=(2, 2), se_ratio=0.25, id_skip=True, fused_conv=False, conv_type='depthwise'), BlockConfig(input_filters=24, output_filters=40, kernel_size=5, num_repeat=2, expand_ratio=6, strides=(2, 2), se_ratio=0.25, id_skip=True, fused_conv=False, conv_type='depthwise'), BlockConfig(input_filters=40, output_filters=80, kernel_size=3, num_repeat=3, expand_ratio=6, strides=(2, 2), se_ratio=0.25, id_skip=True, fused_conv=False, conv_type='depthwise'), BlockConfig(input_filters=80, output_filters=112, kernel_size=5, num_repeat=3, expand_ratio=6, strides=(1, 1), se_ratio=0.25, id_skip=True, fused_conv=False, conv_type='depthwise'), BlockConfig(input_filters=112, output_filters=192, kernel_size=5, num_repeat=4, expand_ratio=6, strides=(2, 2), se_ratio=0.25, id_skip=True, fused_conv=False, conv_type='depthwise'), BlockConfig(input_filters=192, output_filters=320, kernel_size=3, num_repeat=1, expand_ratio=6, strides=(1, 1), se_ratio=0.25, id_skip=True, fused_conv=False, conv_type='depthwise')), stem_base_filters=32, top_base_filters=1280, activation='simple_swish', batch_norm='default', bn_momentum=0.99, bn_epsilon=0.001, weight_decay=5e-06, drop_connect_rate=0.2, depth_divisor=8, min_depth=None, use_se=True, input_channels=3, num_classes=1000, model_name='efficientnet', rescale_input=False, data_format='channels_last', dtype='float32')\n",
            "INFO:tensorflow:time(__main__.ModelBuilderTF2Test.test_create_ssd_models_from_config): 31.52s\n",
            "I0109 10:03:10.081416 140477324355456 test_util.py:2309] time(__main__.ModelBuilderTF2Test.test_create_ssd_models_from_config): 31.52s\n",
            "[       OK ] ModelBuilderTF2Test.test_create_ssd_models_from_config\n",
            "[ RUN      ] ModelBuilderTF2Test.test_invalid_faster_rcnn_batchnorm_update\n",
            "INFO:tensorflow:time(__main__.ModelBuilderTF2Test.test_invalid_faster_rcnn_batchnorm_update): 0.0s\n",
            "I0109 10:03:10.089461 140477324355456 test_util.py:2309] time(__main__.ModelBuilderTF2Test.test_invalid_faster_rcnn_batchnorm_update): 0.0s\n",
            "[       OK ] ModelBuilderTF2Test.test_invalid_faster_rcnn_batchnorm_update\n",
            "[ RUN      ] ModelBuilderTF2Test.test_invalid_first_stage_nms_iou_threshold\n",
            "INFO:tensorflow:time(__main__.ModelBuilderTF2Test.test_invalid_first_stage_nms_iou_threshold): 0.0s\n",
            "I0109 10:03:10.091595 140477324355456 test_util.py:2309] time(__main__.ModelBuilderTF2Test.test_invalid_first_stage_nms_iou_threshold): 0.0s\n",
            "[       OK ] ModelBuilderTF2Test.test_invalid_first_stage_nms_iou_threshold\n",
            "[ RUN      ] ModelBuilderTF2Test.test_invalid_model_config_proto\n",
            "INFO:tensorflow:time(__main__.ModelBuilderTF2Test.test_invalid_model_config_proto): 0.0s\n",
            "I0109 10:03:10.092569 140477324355456 test_util.py:2309] time(__main__.ModelBuilderTF2Test.test_invalid_model_config_proto): 0.0s\n",
            "[       OK ] ModelBuilderTF2Test.test_invalid_model_config_proto\n",
            "[ RUN      ] ModelBuilderTF2Test.test_invalid_second_stage_batch_size\n",
            "INFO:tensorflow:time(__main__.ModelBuilderTF2Test.test_invalid_second_stage_batch_size): 0.0s\n",
            "I0109 10:03:10.094481 140477324355456 test_util.py:2309] time(__main__.ModelBuilderTF2Test.test_invalid_second_stage_batch_size): 0.0s\n",
            "[       OK ] ModelBuilderTF2Test.test_invalid_second_stage_batch_size\n",
            "[ RUN      ] ModelBuilderTF2Test.test_session\n",
            "[  SKIPPED ] ModelBuilderTF2Test.test_session\n",
            "[ RUN      ] ModelBuilderTF2Test.test_unknown_faster_rcnn_feature_extractor\n",
            "INFO:tensorflow:time(__main__.ModelBuilderTF2Test.test_unknown_faster_rcnn_feature_extractor): 0.0s\n",
            "I0109 10:03:10.096041 140477324355456 test_util.py:2309] time(__main__.ModelBuilderTF2Test.test_unknown_faster_rcnn_feature_extractor): 0.0s\n",
            "[       OK ] ModelBuilderTF2Test.test_unknown_faster_rcnn_feature_extractor\n",
            "[ RUN      ] ModelBuilderTF2Test.test_unknown_meta_architecture\n",
            "INFO:tensorflow:time(__main__.ModelBuilderTF2Test.test_unknown_meta_architecture): 0.0s\n",
            "I0109 10:03:10.096504 140477324355456 test_util.py:2309] time(__main__.ModelBuilderTF2Test.test_unknown_meta_architecture): 0.0s\n",
            "[       OK ] ModelBuilderTF2Test.test_unknown_meta_architecture\n",
            "[ RUN      ] ModelBuilderTF2Test.test_unknown_ssd_feature_extractor\n",
            "INFO:tensorflow:time(__main__.ModelBuilderTF2Test.test_unknown_ssd_feature_extractor): 0.0s\n",
            "I0109 10:03:10.097612 140477324355456 test_util.py:2309] time(__main__.ModelBuilderTF2Test.test_unknown_ssd_feature_extractor): 0.0s\n",
            "[       OK ] ModelBuilderTF2Test.test_unknown_ssd_feature_extractor\n",
            "----------------------------------------------------------------------\n",
            "Ran 24 tests in 36.898s\n",
            "\n",
            "OK (skipped=1)\n"
          ]
        }
      ]
    },
    {
      "cell_type": "code",
      "source": [
        ""
      ],
      "metadata": {
        "id": "avU-_5oJSg04"
      },
      "execution_count": null,
      "outputs": []
    }
  ]
}